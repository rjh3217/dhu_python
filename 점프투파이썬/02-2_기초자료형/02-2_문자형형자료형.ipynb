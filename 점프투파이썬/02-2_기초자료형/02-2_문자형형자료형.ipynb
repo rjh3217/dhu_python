{
 "cells": [
  {
   "cell_type": "code",
   "execution_count": 1,
   "metadata": {},
   "outputs": [
    {
     "name": "stdout",
     "output_type": "stream",
     "text": [
      "Hello World\n"
     ]
    }
   ],
   "source": [
    "# 큰따오표\n",
    "a = \"Hello World\"\n",
    "print(a)"
   ]
  },
  {
   "cell_type": "code",
   "execution_count": 2,
   "metadata": {},
   "outputs": [
    {
     "name": "stdout",
     "output_type": "stream",
     "text": [
      "python if fun\n"
     ]
    }
   ],
   "source": [
    "# 작은 따옴표\n",
    "b = 'python if fun'\n",
    "print(b)"
   ]
  },
  {
   "cell_type": "code",
   "execution_count": 3,
   "metadata": {},
   "outputs": [
    {
     "name": "stdout",
     "output_type": "stream",
     "text": [
      "life is too short, you need python\n",
      "life is too short, you need python\n"
     ]
    }
   ],
   "source": [
    "c =\"\"\"life is too short, you need python\"\"\"\n",
    "d = '''life is too short, you need python'''\n",
    "print(c)\n",
    "\n",
    "print(d)"
   ]
  },
  {
   "cell_type": "code",
   "execution_count": 4,
   "metadata": {},
   "outputs": [
    {
     "data": {
      "text/plain": [
       "\"I'm a student\""
      ]
     },
     "execution_count": 4,
     "metadata": {},
     "output_type": "execute_result"
    }
   ],
   "source": [
    "a = \"I'm a student\"\n",
    "a"
   ]
  },
  {
   "cell_type": "code",
   "execution_count": 5,
   "metadata": {},
   "outputs": [
    {
     "data": {
      "text/plain": [
       "'he says \"she is buautiful\"'"
      ]
     },
     "execution_count": 5,
     "metadata": {},
     "output_type": "execute_result"
    }
   ],
   "source": [
    "b = 'he says \"she is buautiful\"'\n",
    "b"
   ]
  },
  {
   "cell_type": "code",
   "execution_count": 6,
   "metadata": {},
   "outputs": [
    {
     "data": {
      "text/plain": [
       "'life is buautiful\\nyou need python '"
      ]
     },
     "execution_count": 6,
     "metadata": {},
     "output_type": "execute_result"
    }
   ],
   "source": [
    "c = \"\"\"life is buautiful\n",
    "you need python \"\"\"\n",
    "c"
   ]
  },
  {
   "cell_type": "code",
   "execution_count": 7,
   "metadata": {},
   "outputs": [
    {
     "data": {
      "text/plain": [
       "'pythonis fun'"
      ]
     },
     "execution_count": 7,
     "metadata": {},
     "output_type": "execute_result"
    }
   ],
   "source": [
    "# 문자열 더하기, 곱하기\n",
    "a = \"python\"\n",
    "b = \"is fun\"\n",
    "a + b \n"
   ]
  },
  {
   "cell_type": "code",
   "execution_count": 8,
   "metadata": {},
   "outputs": [
    {
     "data": {
      "text/plain": [
       "'pythonpythonpythonpythonpython'"
      ]
     },
     "execution_count": 8,
     "metadata": {},
     "output_type": "execute_result"
    }
   ],
   "source": [
    "a * 5"
   ]
  },
  {
   "cell_type": "code",
   "execution_count": 9,
   "metadata": {},
   "outputs": [
    {
     "data": {
      "text/plain": [
       "6"
      ]
     },
     "execution_count": 9,
     "metadata": {},
     "output_type": "execute_result"
    }
   ],
   "source": [
    "# 문자열 길이 구하기\n",
    "len(a)"
   ]
  },
  {
   "cell_type": "code",
   "execution_count": 10,
   "metadata": {},
   "outputs": [
    {
     "name": "stdout",
     "output_type": "stream",
     "text": [
      "p\n",
      "y\n",
      "t\n",
      "h\n",
      "o\n",
      "n\n",
      "n\n",
      "o\n"
     ]
    }
   ],
   "source": [
    "#문자열 인덱싱\n",
    "a = \"python\"\n",
    "print(a[0])\n",
    "print(a[1])\n",
    "print(a[2])\n",
    "print(a[3])\n",
    "print(a[4])\n",
    "print(a[5])\n",
    "\n",
    "print(a[-1])\n",
    "print(a[-2])\n"
   ]
  },
  {
   "cell_type": "code",
   "execution_count": 11,
   "metadata": {},
   "outputs": [
    {
     "name": "stdout",
     "output_type": "stream",
     "text": [
      "life\n",
      "life\n",
      "python\n",
      "pytho\n",
      "life is\n",
      "life is too short, you need python\n"
     ]
    }
   ],
   "source": [
    "#문자열 슬라이싱\n",
    "a = \"life is too short, you need python\"\n",
    "print(a[0]+a[1]+a[2]+a[3])\n",
    "print(a[0:4])\n",
    "len(a)\n",
    "print(a[28:34])\n",
    "print(a[-6:-1])\n",
    "print(a[:7])\n",
    "print(a[:])"
   ]
  },
  {
   "cell_type": "code",
   "execution_count": 12,
   "metadata": {},
   "outputs": [
    {
     "data": {
      "text/plain": [
       "'I eat hellow apples'"
      ]
     },
     "execution_count": 12,
     "metadata": {},
     "output_type": "execute_result"
    }
   ],
   "source": [
    "# 문자열 포매팅\n",
    "\"I eat %d apples\" % 3\n",
    "\"I eat %f apples\" % 3.3\n",
    "\"I eat %s apples\" % \"hellow\"\n"
   ]
  },
  {
   "cell_type": "code",
   "execution_count": 13,
   "metadata": {},
   "outputs": [
    {
     "data": {
      "text/plain": [
       "'I ate 10 apples, so I was sick for three days'"
      ]
     },
     "execution_count": 13,
     "metadata": {},
     "output_type": "execute_result"
    }
   ],
   "source": [
    "# 2\n",
    "\"I eat {0} apples\".format(\"five\")\n",
    "\"I eat {0} apples\".format(5)\n",
    "\n",
    "\"I ate {0} apples, so I was sick for {1} days\".format(10, \"three\")"
   ]
  },
  {
   "cell_type": "code",
   "execution_count": 14,
   "metadata": {},
   "outputs": [
    {
     "name": "stdout",
     "output_type": "stream",
     "text": [
      "나의 이름은 길동이고, 나이는 30입니다.\n",
      "니의 이름은 길동 이고, 나이는 30 입니다.\n",
      "나의 이름은 길동이고, 나이는30입니다.\n"
     ]
    }
   ],
   "source": [
    "# 3\n",
    "name = \"길동\"\n",
    "age = 30\n",
    "print(f\"나의 이름은 {name}이고, 나이는 {age}입니다.\")\n",
    "print(\"니의 이름은 %s 이고, 나이는 %d 입니다.\" % (name, age))\n",
    "print(\"나의 이름은 {0}이고, 나이는{1}입니다.\".format(name, age))"
   ]
  },
  {
   "cell_type": "code",
   "execution_count": 17,
   "metadata": {},
   "outputs": [
    {
     "name": "stdout",
     "output_type": "stream",
     "text": [
      "2\n",
      "1\n",
      "14\n",
      "-1\n",
      "p,y,t,h,o,n\n",
      "PYTHON\n",
      "python\n",
      "     hi     \n",
      "hi\n",
      "hi     \n",
      "     hi\n",
      "your leg is too short\n",
      "['Life', 'is', 'too', 'short']\n"
     ]
    }
   ],
   "source": [
    "###문자열 관련 함수들\n",
    "\n",
    "# count\n",
    "\n",
    "a = \"hobby\"\n",
    "print(a.count(\"b\"))\n",
    "print(a.count(\"h\"))\n",
    "\n",
    "# find\n",
    "a = \"python is the best choice\"\n",
    "print(a.find(\"b\"))\n",
    "print(a.find(\"k\"))\n",
    "\n",
    "# join\n",
    "\n",
    "a = \",\".join(\"python\")\n",
    "print(a)\n",
    "\n",
    "#upper\n",
    "a = \"python\"\n",
    "a = a.upper()\n",
    "print(a)\n",
    "# lower\n",
    "a = a.lower()\n",
    "print(a)\n",
    "\n",
    "# strip\n",
    "a = \"     hi     \"\n",
    "print(a)\n",
    "print(a.strip())\n",
    "print(a.lstrip())\n",
    "print(a.rstrip())\n",
    "\n",
    "# replace\n",
    "\n",
    "a = \"Life is too short\"\n",
    "a = a.replace(\"Life\", \"your leg\")\n",
    "print(a)\n",
    "\n",
    "# split\n",
    "\n",
    "a = \"Life is too short\"\n",
    "a = a.split()\n",
    "print(a)"
   ]
  },
  {
   "cell_type": "code",
   "execution_count": null,
   "metadata": {},
   "outputs": [],
   "source": []
  }
 ],
 "metadata": {
  "kernelspec": {
   "display_name": "Python 3",
   "language": "python",
   "name": "python3"
  },
  "language_info": {
   "codemirror_mode": {
    "name": "ipython",
    "version": 3
   },
   "file_extension": ".py",
   "mimetype": "text/x-python",
   "name": "python",
   "nbconvert_exporter": "python",
   "pygments_lexer": "ipython3",
   "version": "3.13.1"
  }
 },
 "nbformat": 4,
 "nbformat_minor": 2
}
