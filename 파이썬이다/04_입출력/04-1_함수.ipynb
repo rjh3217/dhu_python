{
 "cells": [
  {
   "cell_type": "code",
   "execution_count": 5,
   "metadata": {},
   "outputs": [
    {
     "name": "stdout",
     "output_type": "stream",
     "text": [
      "7\n"
     ]
    }
   ],
   "source": [
    "# 함수의 형식\n",
    "\n",
    "#def 함수_이름(매개변수):\n",
    "#    수행할 문장 1\n",
    "#    수행할 문장 2\n",
    "def add(a, b):\n",
    "    return a + b\n",
    "\n",
    "a = 3\n",
    "b = 4\n",
    "\n",
    "print(add(a, b))\n"
   ]
  },
  {
   "cell_type": "code",
   "execution_count": 7,
   "metadata": {},
   "outputs": [
    {
     "name": "stdout",
     "output_type": "stream",
     "text": [
      "7\n"
     ]
    }
   ],
   "source": [
    "# 일반적인 함수\n",
    "\n",
    "# def 함수이름(매개변수):\n",
    "#   수행할 문장\n",
    "#   return 리턴값\n",
    "\n",
    "def add(a, b):\n",
    "    result = a + b\n",
    "    return result\n",
    "\n",
    "c = add(3,4)\n",
    "print(c)"
   ]
  },
  {
   "cell_type": "code",
   "execution_count": 10,
   "metadata": {},
   "outputs": [
    {
     "name": "stdout",
     "output_type": "stream",
     "text": [
      "HI\n"
     ]
    }
   ],
   "source": [
    "# 입력값이 없는 함수(매개변수x)\n",
    "\n",
    "def say():\n",
    "    return \"HI\"\n",
    "\n",
    "c = say()\n",
    "print(c)"
   ]
  },
  {
   "cell_type": "code",
   "execution_count": 14,
   "metadata": {},
   "outputs": [
    {
     "name": "stdout",
     "output_type": "stream",
     "text": [
      "3,4의 합은 7이다.\n",
      "None\n"
     ]
    }
   ],
   "source": [
    "# 리턴값이 없는 함수\n",
    "\n",
    "def add(a, b):\n",
    "    print(f\"{a},{b}의 합은 {a+b}이다.\")\n",
    "\n",
    "c = add(3, 4)\n",
    "print(c)"
   ]
  },
  {
   "cell_type": "code",
   "execution_count": 15,
   "metadata": {},
   "outputs": [
    {
     "name": "stdout",
     "output_type": "stream",
     "text": [
      "HI\n",
      "None\n"
     ]
    }
   ],
   "source": [
    "# 입력값도 없고, 리턴값도 없는 함수\n",
    "def say():\n",
    "    print(\"HI\")\n",
    "\n",
    "C = say()\n",
    "print(c)"
   ]
  },
  {
   "cell_type": "code",
   "execution_count": 17,
   "metadata": {},
   "outputs": [
    {
     "name": "stdout",
     "output_type": "stream",
     "text": [
      "4\n",
      "-2\n"
     ]
    }
   ],
   "source": [
    "# 매개변수를 지정하여 호출하기\n",
    "\n",
    "def sub(a, b):\n",
    "    return a - b\n",
    "\n",
    "\n",
    "#sub(7, 3)\n",
    "result = sub(a=7, b=3)\n",
    "print(result)\n",
    "\n",
    "result2 = sub(b=5, a=3)\n",
    "print(result2)"
   ]
  },
  {
   "cell_type": "code",
   "execution_count": 23,
   "metadata": {},
   "outputs": [
    {
     "name": "stdout",
     "output_type": "stream",
     "text": [
      "6\n",
      "55\n"
     ]
    }
   ],
   "source": [
    "# 입력값이 몇 개가 될지 모를떄는 어떻게 할까?\n",
    "\n",
    "# def 함수_이름(*매개변수):\n",
    "#     수행할문장\n",
    "\n",
    "def add_many(*args):\n",
    "    result = 0\n",
    "\n",
    "    for i in args:\n",
    "        result = result + i\n",
    "\n",
    "    return result\n",
    "\n",
    "c = add_many(1, 2, 3)\n",
    "print(c)\n",
    "\n",
    "d = add_many(1,2,3,4,5,6,7,8,9,10)\n",
    "print(d)"
   ]
  },
  {
   "cell_type": "code",
   "execution_count": 21,
   "metadata": {},
   "outputs": [
    {
     "name": "stdout",
     "output_type": "stream",
     "text": [
      "python\n",
      "python is\n",
      "python is good\n"
     ]
    }
   ],
   "source": [
    "print(\"python\")\n",
    "print(\"python\",\"is\")\n",
    "print(\"python\",\"is\",\"good\")"
   ]
  },
  {
   "cell_type": "code",
   "execution_count": 28,
   "metadata": {},
   "outputs": [
    {
     "name": "stdout",
     "output_type": "stream",
     "text": [
      "15\n",
      "120\n"
     ]
    }
   ],
   "source": [
    "def add_mul(choice, *args):\n",
    "    if choice == \"add\":\n",
    "        result = 0\n",
    "        for i in args:\n",
    "            result += i\n",
    "    elif choice == \"mul\":\n",
    "        result = 1\n",
    "        for i in args:\n",
    "            result *= i\n",
    "    else:\n",
    "        pass\n",
    "\n",
    "\n",
    "    return result\n",
    "\n",
    "c = add_mul(\"add\",1,2,3,4,5)\n",
    "print(c)\n",
    "\n",
    "d = add_mul(\"mul\",1,2,3,4,5)\n",
    "print(d)\n"
   ]
  },
  {
   "cell_type": "code",
   "execution_count": 32,
   "metadata": {},
   "outputs": [
    {
     "name": "stdout",
     "output_type": "stream",
     "text": [
      "{'a': 1}\n",
      "{'name': 'ken', 'age': 20}\n"
     ]
    }
   ],
   "source": [
    "# 키워드 매개변수 **kwargs\n",
    "\n",
    "def print_kwargs(**kwargs):\n",
    "    print(kwargs)\n",
    "\n",
    "print_kwargs(a=1)\n",
    "print_kwargs(name=\"ken\", age = 20)"
   ]
  },
  {
   "cell_type": "code",
   "execution_count": 33,
   "metadata": {},
   "outputs": [
    {
     "name": "stdout",
     "output_type": "stream",
     "text": [
      "(7, 12)\n"
     ]
    }
   ],
   "source": [
    "# 함수의 리턴값은 언제나  하나이다.\n",
    "\n",
    "def add_and_mul(a, b):\n",
    "    return a+b, a*b\n",
    "\n",
    "result = add_and_mul(3, 4)\n",
    "print(result)"
   ]
  },
  {
   "cell_type": "code",
   "execution_count": 35,
   "metadata": {},
   "outputs": [
    {
     "name": "stdout",
     "output_type": "stream",
     "text": [
      "12\n"
     ]
    }
   ],
   "source": [
    "def add_and_mul(a, b):\n",
    "    return a*b\n",
    "    return a+b\n",
    "\n",
    "result = add_and_mul(3, 4)\n",
    "print(result)"
   ]
  },
  {
   "cell_type": "code",
   "execution_count": 39,
   "metadata": {},
   "outputs": [
    {
     "name": "stdout",
     "output_type": "stream",
     "text": [
      "나의 별명은 야호입니다.\n"
     ]
    }
   ],
   "source": [
    "def say_nick(nick):\n",
    "    if nick == \"바보\":\n",
    "        return\n",
    "    print(f\"나의 별명은 {nick}입니다.\")\n",
    "\n",
    "say_nick(\"야호\")\n"
   ]
  },
  {
   "cell_type": "code",
   "execution_count": 40,
   "metadata": {},
   "outputs": [],
   "source": [
    "say_nick(\"바보\")"
   ]
  },
  {
   "cell_type": "code",
   "execution_count": 44,
   "metadata": {},
   "outputs": [
    {
     "name": "stdout",
     "output_type": "stream",
     "text": [
      "나의 이름은홍길동입니다.\n",
      "나의 나이는27살 입니다.\n",
      "남자입니다.\n",
      "나의 이름은홍길동입니다.\n",
      "나의 나이는27살 입니다.\n",
      "남자입니다.\n",
      "나의 이름은홍길동입니다.\n",
      "나의 나이는27살 입니다.\n",
      "여자입니다.\n"
     ]
    }
   ],
   "source": [
    "# 매개변수에 초기값을 미리 설정하기\n",
    "\n",
    "def say_myself(name, age, man=True):\n",
    "    print(f\"나의 이름은{name}입니다.\")\n",
    "    print(f\"나의 나이는{age}살 입니다.\")\n",
    "\n",
    "    if man:\n",
    "        print(\"남자입니다.\")\n",
    "    else:\n",
    "     print(\"여자입니다.\")\n",
    "\n",
    "say_myself(\"홍길동\", 27)    \n",
    "say_myself(\"홍길동\", 27, True)    \n",
    "say_myself(\"홍길동\", 27, False)    "
   ]
  },
  {
   "cell_type": "code",
   "execution_count": 47,
   "metadata": {},
   "outputs": [
    {
     "name": "stdout",
     "output_type": "stream",
     "text": [
      "나의 이름은홍길동입니다.\n",
      "나의 나이는23살 입니다.\n",
      "남자입니다.\n",
      "나의 이름은홍길동입니다.\n",
      "나의 나이는True살 입니다.\n",
      "남자입니다.\n",
      "나의 이름은홍길동입니다.\n",
      "나의 나이는False살 입니다.\n",
      "남자입니다.\n"
     ]
    }
   ],
   "source": [
    "def say_myself(name, man=True, age=23):  #매개변수로 지정된 값은 항상 제일 뒤로\n",
    "    print(f\"나의 이름은{name}입니다.\")\n",
    "    print(f\"나의 나이는{age}살 입니다.\")\n",
    "\n",
    "    if man:\n",
    "        print(\"남자입니다.\")\n",
    "    else:\n",
    "     print(\"여자입니다.\")\n",
    "\n",
    "say_myself(\"홍길동\", 27)    \n",
    "say_myself(\"홍길동\", 27, True)    \n",
    "say_myself(\"홍길동\", 27, False)    "
   ]
  },
  {
   "cell_type": "code",
   "execution_count": 50,
   "metadata": {},
   "outputs": [
    {
     "name": "stdout",
     "output_type": "stream",
     "text": [
      "1\n"
     ]
    }
   ],
   "source": [
    "# 함수 안에서 선언한 변수의 효력 범위\n",
    "\n",
    "a = 1\n",
    "def vartest(a):\n",
    "    a = a + 1\n",
    "\n",
    "vartest(3)\n",
    "print(a)"
   ]
  },
  {
   "cell_type": "code",
   "execution_count": 51,
   "metadata": {},
   "outputs": [
    {
     "name": "stdout",
     "output_type": "stream",
     "text": [
      "2\n"
     ]
    }
   ],
   "source": [
    "a = 1\n",
    "def vartest(a):\n",
    "    a = a + 1\n",
    "    return a\n",
    "\n",
    "a = vartest(a)\n",
    "print(a)"
   ]
  },
  {
   "cell_type": "code",
   "execution_count": 52,
   "metadata": {},
   "outputs": [
    {
     "name": "stdout",
     "output_type": "stream",
     "text": [
      "2\n"
     ]
    }
   ],
   "source": [
    "a = 1\n",
    "def vartest():\n",
    "    global a\n",
    "    a = a + 1\n",
    "\n",
    "vartest()\n",
    "print(a)"
   ]
  },
  {
   "cell_type": "code",
   "execution_count": null,
   "metadata": {},
   "outputs": [],
   "source": []
  }
 ],
 "metadata": {
  "kernelspec": {
   "display_name": "Python 3",
   "language": "python",
   "name": "python3"
  },
  "language_info": {
   "codemirror_mode": {
    "name": "ipython",
    "version": 3
   },
   "file_extension": ".py",
   "mimetype": "text/x-python",
   "name": "python",
   "nbconvert_exporter": "python",
   "pygments_lexer": "ipython3",
   "version": "3.13.1"
  }
 },
 "nbformat": 4,
 "nbformat_minor": 2
}
