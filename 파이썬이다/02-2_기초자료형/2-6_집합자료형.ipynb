{
 "cells": [
  {
   "cell_type": "code",
   "execution_count": 1,
   "metadata": {},
   "outputs": [
    {
     "data": {
      "text/plain": [
       "{1, 2, 3}"
      ]
     },
     "execution_count": 1,
     "metadata": {},
     "output_type": "execute_result"
    }
   ],
   "source": [
    "s1 = set([1, 2, 3])\n",
    "s1"
   ]
  },
  {
   "cell_type": "code",
   "execution_count": 6,
   "metadata": {},
   "outputs": [
    {
     "name": "stdout",
     "output_type": "stream",
     "text": [
      "{4, 5, 6}\n",
      "{4, 5, 6}\n"
     ]
    }
   ],
   "source": [
    "#집합 자료형의 특징\n",
    "#1. 중복값의 허용하지 않음\n",
    "#2. 순서가 없다.\n",
    "\n",
    "#교집합, 합집합, 차집합 구하기\n",
    "s1 = set([1, 2, 3, 4, 5, 6])\n",
    "s2 = set([4, 5, 6, 7 , 8, 9])\n",
    "\n",
    "# 교집합\n",
    "result1 = s1 & s2\n",
    "print(result1)\n",
    "\n",
    "\n",
    "# 교집합 함수 (intersection)\n",
    "\n",
    "result2 = s1.intersection(s2)\n",
    "print(result2)"
   ]
  },
  {
   "cell_type": "code",
   "execution_count": 10,
   "metadata": {},
   "outputs": [
    {
     "name": "stdout",
     "output_type": "stream",
     "text": [
      "{1, 2, 3, 4, 5, 6, 7, 8, 9}\n",
      "{1, 2, 3, 4, 5, 6, 7, 8, 9}\n"
     ]
    }
   ],
   "source": [
    "# 합집합\n",
    "\n",
    "s1 = set([1, 2, 3, 4, 5, 6])\n",
    "s2 = set([4, 5, 6, 7 , 8, 9])\n",
    "\n",
    "result1= s1 | s2 \n",
    "print(result1)\n",
    "\n",
    "# 합집합 함수 (union)\n",
    "\n",
    "result2 = s1.union(s2)\n",
    "print(result2)"
   ]
  },
  {
   "cell_type": "code",
   "execution_count": 14,
   "metadata": {},
   "outputs": [
    {
     "name": "stdout",
     "output_type": "stream",
     "text": [
      "{1, 2, 3}\n",
      "{8, 9, 7}\n",
      "{1, 2, 3}\n",
      "{8, 9, 7}\n"
     ]
    }
   ],
   "source": [
    "s1 = set([1, 2, 3, 4, 5, 6])\n",
    "s2 = set([4, 5, 6, 7 , 8, 9])\n",
    "\n",
    "# 차집합 \n",
    "\n",
    "result1 = s1 - s2\n",
    "print(result1)\n",
    "\n",
    "result2 = s2 - s1\n",
    "print(result2)\n",
    "\n",
    "# 차집합 함수 (diffrence)\n",
    "result3 = s1.difference(s2)\n",
    "\n",
    "print(result3)\n",
    "result4 = s2.difference(s1)\n",
    "print(result4)"
   ]
  },
  {
   "cell_type": "code",
   "execution_count": null,
   "metadata": {},
   "outputs": [],
   "source": []
  }
 ],
 "metadata": {
  "kernelspec": {
   "display_name": "Python 3",
   "language": "python",
   "name": "python3"
  },
  "language_info": {
   "codemirror_mode": {
    "name": "ipython",
    "version": 3
   },
   "file_extension": ".py",
   "mimetype": "text/x-python",
   "name": "python",
   "nbconvert_exporter": "python",
   "pygments_lexer": "ipython3",
   "version": "3.13.1"
  }
 },
 "nbformat": 4,
 "nbformat_minor": 2
}
