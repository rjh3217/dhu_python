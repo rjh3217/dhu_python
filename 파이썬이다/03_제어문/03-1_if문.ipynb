{
 "cells": [
  {
   "cell_type": "code",
   "execution_count": 3,
   "metadata": {},
   "outputs": [
    {
     "name": "stdout",
     "output_type": "stream",
     "text": [
      "택시를 타고 가라\n"
     ]
    }
   ],
   "source": [
    "# 돈이 있으면 택시를 타고 가고, 돈이 없으면 걸어간다.\n",
    "\n",
    "money = True # 돈이 있으면\n",
    "if money == True:\n",
    "    print(\"택시를 타고 가라\")\n",
    "else:\n",
    "    print(\"걸어간다\")"
   ]
  },
  {
   "cell_type": "code",
   "execution_count": 7,
   "metadata": {},
   "outputs": [
    {
     "name": "stdout",
     "output_type": "stream",
     "text": [
      "나는 w 거지니까 걸어가야지...\n"
     ]
    }
   ],
   "source": [
    "# 만약 3000원 이상의 돈을 가지고 있으면 택시를 타고가고, 그렇지 않으면 걸어간다.\n",
    "\n",
    "money = 2000\n",
    "if money >= 3000:\n",
    "    print(\"나는 쌈뽕한 부자니까 택시타야징\")\n",
    "else:\n",
    "    print(\"나는 w 거지니까 걸어가야지...\")"
   ]
  },
  {
   "cell_type": "code",
   "execution_count": 11,
   "metadata": {},
   "outputs": [
    {
     "name": "stdout",
     "output_type": "stream",
     "text": [
      "나는 쌈뽕한 부자에 카드도 있으니 shibal 당당하게 택시타야징\n"
     ]
    }
   ],
   "source": [
    "# 돈이 3000원 이상 있거나 카드가 있다면 택시를 타고가고, 그렇지 않으면 걸어가라\n",
    "\n",
    "money = 2000\n",
    "card = True\n",
    "\n",
    "if money >= 3000 or card ==True:\n",
    "    print(\"나는 쌈뽕한 부자에 카드도 있으니 shibal 당당하게 택시타야징\")\n",
    "else:\n",
    "    print(\"ㅅㅂ ㅈ같은 세상 돈이없지.. 걸어가야겠당!\")\n",
    "    "
   ]
  },
  {
   "cell_type": "code",
   "execution_count": 12,
   "metadata": {},
   "outputs": [
    {
     "name": "stdout",
     "output_type": "stream",
     "text": [
      "나는 쌈뽕한 부자에 카드도 있으니 shibal 당당하게 택시타야징\n"
     ]
    }
   ],
   "source": [
    "# 돈이 3000원 이상 있거나 카드가 있다면 택시를 타고가고, 그렇지 않으면 걸어가라\n",
    "\n",
    "money = 2000\n",
    "card = True\n",
    "\n",
    "if money >= 3000 or card :   ## if 식에 ==true를 생략해도 정상적으로 작동한다.\n",
    "    print(\"나는 쌈뽕한 부자에 카드도 있으니 shibal 당당하게 택시타야징\")\n",
    "else:\n",
    "    print(\"ㅅㅂ ㅈ같은 세상 돈이없지.. 걸어가야겠당!\")\n",
    "    "
   ]
  },
  {
   "cell_type": "code",
   "execution_count": 21,
   "metadata": {},
   "outputs": [
    {
     "name": "stdout",
     "output_type": "stream",
     "text": [
      "쌈뽕한 택시 진행시켜.\n"
     ]
    }
   ],
   "source": [
    "# 만약에 주머니에 돈이 있으면 택시를 타고가고, 그렇지 않으면 걸어가라.\n",
    "\n",
    "주머니 = [\"카드\", \"돈\", \"열쇠\"]\n",
    "\n",
    "if \"돈\" in 주머니:\n",
    "    print(\"쌈뽕한 택시 진행시켜.\")\n",
    "else:\n",
    "    print(\"w같은세상 걸어간다..\")"
   ]
  },
  {
   "cell_type": "code",
   "execution_count": 27,
   "metadata": {},
   "outputs": [
    {
     "name": "stdout",
     "output_type": "stream",
     "text": [
      "택시를 타고가라.\n"
     ]
    }
   ],
   "source": [
    "# 주머니에 돈이 있으면 택시를 타고 가고, 주머니에 돈이 없wl만 카드가 있으면 택시를 타고가고, 돈도없고 카드도 없으면 걸어가라\n",
    "\n",
    "주머니 = [\"카드\", \"열쇠\"]\n",
    "카드 = True\n",
    "\n",
    "if \"돈\" in 주머니:\n",
    "    print(\"택시여 빨랑 오이소\")\n",
    "else:\n",
    "    if card:\n",
    "        print(\"택시를 타고가라.\")\n",
    "    else:\n",
    "        print(\"걸어가라\")"
   ]
  },
  {
   "cell_type": "code",
   "execution_count": 29,
   "metadata": {},
   "outputs": [
    {
     "name": "stdout",
     "output_type": "stream",
     "text": [
      "택시를 타고가라.\n"
     ]
    }
   ],
   "source": [
    "if \"돈\" in 주머니:\n",
    "    print(\"택시를 타고가라.\")\n",
    "elif card:\n",
    "    print(\"택시를 타고가라.\")\n",
    "else:\n",
    "    print(\"걸어가라.\")"
   ]
  },
  {
   "cell_type": "code",
   "execution_count": 42,
   "metadata": {},
   "outputs": [
    {
     "name": "stdout",
     "output_type": "stream",
     "text": [
      "여기 있찌요~~\n",
      "짐이 계산하도록 하마..\n"
     ]
    }
   ],
   "source": [
    "# 만약에 카드가 없으면 가만히 있고(pass), 있으면 카드르 꺼내라\n",
    "\n",
    "주머니 = [\"카드\", \"열쇠\"]\n",
    "\n",
    "if \"카드\" not in  주머니:\n",
    "   pass\n",
    "else:\n",
    "    print(\"여기 있찌요~~\")\n",
    "    print(\"짐이 계산하도록 하마..\")"
   ]
  },
  {
   "cell_type": "code",
   "execution_count": 41,
   "metadata": {},
   "outputs": [
    {
     "name": "stdout",
     "output_type": "stream",
     "text": [
      "여기있넹\n"
     ]
    }
   ],
   "source": [
    "주머니 = [\"카드\", \"열쇠\"]\n",
    "\n",
    "if \"카드\" not in  주머니:pass\n",
    "else:print(\"여기있넹\")"
   ]
  },
  {
   "cell_type": "code",
   "execution_count": 48,
   "metadata": {},
   "outputs": [
    {
     "name": "stdout",
     "output_type": "stream",
     "text": [
      "success\n"
     ]
    }
   ],
   "source": [
    "# score가 60점 이상인 경우 message에 \"success\" 아닐경우에는 \"failure\"를 대입하라\n",
    "score = 70\n",
    "\n",
    "if score >=60:\n",
    "    message = \"success\"\n",
    "else:\n",
    "    message = \"failure\"\n",
    "\n",
    "print(message)\n"
   ]
  },
  {
   "cell_type": "code",
   "execution_count": 49,
   "metadata": {},
   "outputs": [
    {
     "name": "stdout",
     "output_type": "stream",
     "text": [
      "success\n"
     ]
    }
   ],
   "source": [
    "message = \"success\" if score >= 60 else \"failure\"\n",
    "\n",
    "print(message)"
   ]
  },
  {
   "cell_type": "code",
   "execution_count": null,
   "metadata": {},
   "outputs": [],
   "source": []
  }
 ],
 "metadata": {
  "kernelspec": {
   "display_name": "Python 3",
   "language": "python",
   "name": "python3"
  },
  "language_info": {
   "codemirror_mode": {
    "name": "ipython",
    "version": 3
   },
   "file_extension": ".py",
   "mimetype": "text/x-python",
   "name": "python",
   "nbconvert_exporter": "python",
   "pygments_lexer": "ipython3",
   "version": "3.13.1"
  }
 },
 "nbformat": 4,
 "nbformat_minor": 2
}
