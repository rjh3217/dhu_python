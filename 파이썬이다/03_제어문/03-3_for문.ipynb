{
 "cells": [
  {
   "cell_type": "code",
   "execution_count": 1,
   "metadata": {},
   "outputs": [],
   "source": [
    "# 형식\n",
    "\n",
    "# for 변수 in [리스트 or 튜플 or 딕셔너리]\n",
    "#   수행할 문장1\n",
    "#   수행할 문장2\n",
    "\n",
    "# 리스트/튜플/딕셔너리의 첫 번째 요소부터 마지막 요소까지\n",
    "# 차례로 변수에 대입되어 수행할 문장을 실행한다"
   ]
  },
  {
   "cell_type": "code",
   "execution_count": 2,
   "metadata": {},
   "outputs": [
    {
     "name": "stdout",
     "output_type": "stream",
     "text": [
      "one\n",
      "two\n",
      "three\n"
     ]
    }
   ],
   "source": [
    "test_list = [\"one\", \"two\", \"three\"]\n",
    "\n",
    "for i in test_list:\n",
    "    print(i)"
   ]
  },
  {
   "cell_type": "code",
   "execution_count": 7,
   "metadata": {},
   "outputs": [
    {
     "name": "stdout",
     "output_type": "stream",
     "text": [
      "3\n",
      "7\n",
      "11\n"
     ]
    }
   ],
   "source": [
    "a = [(1,2), (3,4), (5,6)]\n",
    "\n",
    "for(first, second) in a:\n",
    "    print(first + second)"
   ]
  },
  {
   "cell_type": "code",
   "execution_count": 10,
   "metadata": {},
   "outputs": [
    {
     "name": "stdout",
     "output_type": "stream",
     "text": [
      "1번째 학생은 합격입니다.\n",
      "2번째 학생은 불합격입니다.\n",
      "3번째 학생은 합격입니다.\n",
      "4번째 학생은 불합격입니다.\n",
      "5번째 학생은 합격입니다.\n"
     ]
    }
   ],
   "source": [
    "marks = [90, 25, 67, 45, 80]\n",
    "number = 0\n",
    "\n",
    "for mark in marks:\n",
    "\n",
    "    number = number + 1\n",
    "    if mark >=60:\n",
    "        print(f\"{number}번째 학생은 합격입니다.\")\n",
    "    else:\n",
    "        print(f\"{number}번째 학생은 불합격입니다.\")"
   ]
  },
  {
   "cell_type": "code",
   "execution_count": 12,
   "metadata": {},
   "outputs": [
    {
     "name": "stdout",
     "output_type": "stream",
     "text": [
      "1번 학생 축하합니다. 합격입니다\n",
      "3번 학생 축하합니다. 합격입니다\n",
      "5번 학생 축하합니다. 합격입니다\n"
     ]
    }
   ],
   "source": [
    "# for문과 continue 문\n",
    "\n",
    "marks = [90, 25, 67, 45, 80]\n",
    "number = 0\n",
    "\n",
    "for mark in marks:\n",
    "    number += 1\n",
    "    if mark < 60:\n",
    "        continue\n",
    "    else:\n",
    "        print(f\"{number}번 학생 축하합니다. 합격입니다\")"
   ]
  },
  {
   "cell_type": "code",
   "execution_count": 14,
   "metadata": {},
   "outputs": [
    {
     "data": {
      "text/plain": [
       "[0, 1, 2, 3, 4, 5, 6, 7, 8, 9]"
      ]
     },
     "execution_count": 14,
     "metadata": {},
     "output_type": "execute_result"
    }
   ],
   "source": [
    "# for문과 함께 자주사용하는 range문\n",
    "\n",
    "a = range(0, 10)\n",
    "list(a)"
   ]
  },
  {
   "cell_type": "code",
   "execution_count": 16,
   "metadata": {},
   "outputs": [
    {
     "name": "stdout",
     "output_type": "stream",
     "text": [
      "55\n"
     ]
    }
   ],
   "source": [
    "add = 0\n",
    "for i in range(1, 11):\n",
    "    add = add + i\n",
    "print(add)"
   ]
  },
  {
   "cell_type": "code",
   "execution_count": 17,
   "metadata": {},
   "outputs": [
    {
     "data": {
      "text/plain": [
       "[0, 1, 2, 3, 4, 5, 6, 7, 8, 9, 10, 11, 12, 13, 14, 15, 16, 17, 18, 19]"
      ]
     },
     "execution_count": 17,
     "metadata": {},
     "output_type": "execute_result"
    }
   ],
   "source": [
    "a = range(20)\n",
    "list(a)"
   ]
  },
  {
   "cell_type": "code",
   "execution_count": 35,
   "metadata": {},
   "outputs": [
    {
     "name": "stdout",
     "output_type": "stream",
     "text": [
      "2 X 1 = 2\n",
      "2 X 2 = 4\n",
      "2 X 3 = 6\n",
      "2 X 4 = 8\n",
      "2 X 5 = 10\n",
      "2 X 6 = 12\n",
      "2 X 7 = 14\n",
      "2 X 8 = 16\n",
      "2 X 9 = 18\n"
     ]
    }
   ],
   "source": [
    "# for문을 이용해서 구구단 2단을 출력해보세요\n",
    "\n",
    "for a in range(1, 10):\n",
    "    print(f\"2 X {a} = {2 * a}\")\n",
    "\n",
    "  \n"
   ]
  },
  {
   "cell_type": "code",
   "execution_count": 42,
   "metadata": {},
   "outputs": [
    {
     "name": "stdout",
     "output_type": "stream",
     "text": [
      "2단\n",
      "2 X 1 = 2\n",
      "2 X 2 = 4\n",
      "2 X 3 = 6\n",
      "2 X 4 = 8\n",
      "2 X 5 = 10\n",
      "2 X 6 = 12\n",
      "2 X 7 = 14\n",
      "2 X 8 = 16\n",
      "2 X 9 = 18\n",
      "3단\n",
      "3 X 1 = 3\n",
      "3 X 2 = 6\n",
      "3 X 3 = 9\n",
      "3 X 4 = 12\n",
      "3 X 5 = 15\n",
      "3 X 6 = 18\n",
      "3 X 7 = 21\n",
      "3 X 8 = 24\n",
      "3 X 9 = 27\n",
      "4단\n",
      "4 X 1 = 4\n",
      "4 X 2 = 8\n",
      "4 X 3 = 12\n",
      "4 X 4 = 16\n",
      "4 X 5 = 20\n",
      "4 X 6 = 24\n",
      "4 X 7 = 28\n",
      "4 X 8 = 32\n",
      "4 X 9 = 36\n",
      "5단\n",
      "5 X 1 = 5\n",
      "5 X 2 = 10\n",
      "5 X 3 = 15\n",
      "5 X 4 = 20\n",
      "5 X 5 = 25\n",
      "5 X 6 = 30\n",
      "5 X 7 = 35\n",
      "5 X 8 = 40\n",
      "5 X 9 = 45\n",
      "6단\n",
      "6 X 1 = 6\n",
      "6 X 2 = 12\n",
      "6 X 3 = 18\n",
      "6 X 4 = 24\n",
      "6 X 5 = 30\n",
      "6 X 6 = 36\n",
      "6 X 7 = 42\n",
      "6 X 8 = 48\n",
      "6 X 9 = 54\n",
      "7단\n",
      "7 X 1 = 7\n",
      "7 X 2 = 14\n",
      "7 X 3 = 21\n",
      "7 X 4 = 28\n",
      "7 X 5 = 35\n",
      "7 X 6 = 42\n",
      "7 X 7 = 49\n",
      "7 X 8 = 56\n",
      "7 X 9 = 63\n",
      "8단\n",
      "8 X 1 = 8\n",
      "8 X 2 = 16\n",
      "8 X 3 = 24\n",
      "8 X 4 = 32\n",
      "8 X 5 = 40\n",
      "8 X 6 = 48\n",
      "8 X 7 = 56\n",
      "8 X 8 = 64\n",
      "8 X 9 = 72\n",
      "9단\n",
      "9 X 1 = 9\n",
      "9 X 2 = 18\n",
      "9 X 3 = 27\n",
      "9 X 4 = 36\n",
      "9 X 5 = 45\n",
      "9 X 6 = 54\n",
      "9 X 7 = 63\n",
      "9 X 8 = 72\n",
      "9 X 9 = 81\n"
     ]
    }
   ],
   "source": [
    " # 2단 부터 9단까지 구구단을 출력하시오\n",
    "for i in range(2, 10):\n",
    "    print(f\"{i}단\")\n",
    "    for j in range(1, 10):\n",
    "        print(f\"{i} X {j} = {i * j}\")\n",
    "    \n",
    "    \n",
    "        \n"
   ]
  },
  {
   "cell_type": "code",
   "execution_count": 5,
   "metadata": {},
   "outputs": [
    {
     "name": "stdout",
     "output_type": "stream",
     "text": [
      "[3, 6, 9, 12]\n"
     ]
    }
   ],
   "source": [
    "# 리스트 컴프리핸션 사용하기\n",
    "\n",
    "a = [1, 2, 3, 4]\n",
    "result = []\n",
    "for num in a:\n",
    "    result.append(num*3)\n",
    "\n",
    "print(result)"
   ]
  },
  {
   "cell_type": "code",
   "execution_count": 6,
   "metadata": {},
   "outputs": [
    {
     "name": "stdout",
     "output_type": "stream",
     "text": [
      "[3, 6, 9, 12]\n"
     ]
    }
   ],
   "source": [
    "a = [1, 2, 3, 4]\n",
    "result = [num * 3 for num in a]\n",
    "print(result)"
   ]
  },
  {
   "cell_type": "code",
   "execution_count": 7,
   "metadata": {},
   "outputs": [
    {
     "name": "stdout",
     "output_type": "stream",
     "text": [
      "[6, 12]\n"
     ]
    }
   ],
   "source": [
    "a = [1, 2, 3, 4]\n",
    "result = []\n",
    "for num in a:\n",
    "    if num % 2 == 0:\n",
    "        result.append(num*3)\n",
    "\n",
    "print(result)"
   ]
  },
  {
   "cell_type": "code",
   "execution_count": 8,
   "metadata": {},
   "outputs": [
    {
     "name": "stdout",
     "output_type": "stream",
     "text": [
      "[6, 12]\n"
     ]
    }
   ],
   "source": [
    "a = [1, 2, 3, 4]\n",
    "result = [num * 3 for num in a if num % 2 == 0]\n",
    "print(result)"
   ]
  },
  {
   "cell_type": "code",
   "execution_count": 9,
   "metadata": {},
   "outputs": [
    {
     "name": "stdout",
     "output_type": "stream",
     "text": [
      "['2 X 1 = 2', '2 X 2 = 4', '2 X 3 = 6', '2 X 4 = 8', '2 X 5 = 10', '2 X 6 = 12', '2 X 7 = 14', '2 X 8 = 16', '2 X 9 = 18', '3 X 1 = 3', '3 X 2 = 6', '3 X 3 = 9', '3 X 4 = 12', '3 X 5 = 15', '3 X 6 = 18', '3 X 7 = 21', '3 X 8 = 24', '3 X 9 = 27', '4 X 1 = 4', '4 X 2 = 8', '4 X 3 = 12', '4 X 4 = 16', '4 X 5 = 20', '4 X 6 = 24', '4 X 7 = 28', '4 X 8 = 32', '4 X 9 = 36', '5 X 1 = 5', '5 X 2 = 10', '5 X 3 = 15', '5 X 4 = 20', '5 X 5 = 25', '5 X 6 = 30', '5 X 7 = 35', '5 X 8 = 40', '5 X 9 = 45', '6 X 1 = 6', '6 X 2 = 12', '6 X 3 = 18', '6 X 4 = 24', '6 X 5 = 30', '6 X 6 = 36', '6 X 7 = 42', '6 X 8 = 48', '6 X 9 = 54', '7 X 1 = 7', '7 X 2 = 14', '7 X 3 = 21', '7 X 4 = 28', '7 X 5 = 35', '7 X 6 = 42', '7 X 7 = 49', '7 X 8 = 56', '7 X 9 = 63', '8 X 1 = 8', '8 X 2 = 16', '8 X 3 = 24', '8 X 4 = 32', '8 X 5 = 40', '8 X 6 = 48', '8 X 7 = 56', '8 X 8 = 64', '8 X 9 = 72', '9 X 1 = 9', '9 X 2 = 18', '9 X 3 = 27', '9 X 4 = 36', '9 X 5 = 45', '9 X 6 = 54', '9 X 7 = 63', '9 X 8 = 72', '9 X 9 = 81']\n"
     ]
    }
   ],
   "source": [
    "# 리스트컴프리헨션으로 구구단 만들기\n",
    "\n",
    "result = [f\"{i} X {j} = {i * j}\" for i in range(2, 10) for j in range(1, 10)]\n",
    "print(result)"
   ]
  },
  {
   "cell_type": "code",
   "execution_count": null,
   "metadata": {},
   "outputs": [],
   "source": []
  }
 ],
 "metadata": {
  "kernelspec": {
   "display_name": "Python 3",
   "language": "python",
   "name": "python3"
  },
  "language_info": {
   "codemirror_mode": {
    "name": "ipython",
    "version": 3
   },
   "file_extension": ".py",
   "mimetype": "text/x-python",
   "name": "python",
   "nbconvert_exporter": "python",
   "pygments_lexer": "ipython3",
   "version": "3.13.1"
  }
 },
 "nbformat": 4,
 "nbformat_minor": 2
}
