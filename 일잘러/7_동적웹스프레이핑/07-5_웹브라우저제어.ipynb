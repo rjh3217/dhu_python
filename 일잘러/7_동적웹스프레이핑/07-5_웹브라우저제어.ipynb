{
 "cells": [
  {
   "cell_type": "code",
   "execution_count": 2,
   "metadata": {},
   "outputs": [],
   "source": [
    "# 네이버 검새강에 일반 텍스트 입력하기\n",
    "\n",
    "from selenium import webdriver\n",
    "from selenium.webdriver.common.by import By\n",
    "\n",
    "driver = webdriver.Chrome()\n",
    "driver.get(\"http://www.naver.com\")\n",
    "\n",
    "input_element = driver.find_element(By.ID, \"query\")\n",
    "\n",
    "input_element.send_keys(\"서울날씨\")\n",
    "\n",
    "#입력한 텍스트로 검색 진행하기\n",
    "\n",
    "input_element.submit()\n"
   ]
  },
  {
   "cell_type": "code",
   "execution_count": 6,
   "metadata": {},
   "outputs": [],
   "source": [
    "# 특수 키 사용하기\n",
    "\n",
    "from selenium import webdriver\n",
    "from selenium.webdriver.common.by import By\n",
    "from selenium.webdriver.common.keys import Keys\n",
    "\n",
    "driver = webdriver.Chrome()\n",
    "driver.get(\"http://www.naver.com\")\n",
    "\n",
    "input_element = driver.find_element(By.ID, \"query\")\n",
    "\n",
    "input_element.send_keys(\"서울날씨\")\n",
    "input_element.send_keys(Keys.ENTER)\n"
   ]
  },
  {
   "cell_type": "code",
   "execution_count": 8,
   "metadata": {},
   "outputs": [],
   "source": [
    "# 조합키 사용하기\n",
    "\n",
    "from selenium import webdriver\n",
    "from selenium.webdriver.common.by import By\n",
    "from selenium.webdriver.common.keys import Keys\n",
    "import time\n",
    "\n",
    "\n",
    "driver = webdriver.Chrome()\n",
    "driver.get(\"http://www.naver.com\")\n",
    "\n",
    "input_element = driver.find_element(By.ID, \"query\")\n",
    "\n",
    "\n",
    "input_element.send_keys(\"대구날씨\")\n",
    "time.sleep(2)\n",
    "\n",
    "input_element.send_keys(Keys.CONTROL, \"A\")\n",
    "input_element.send_keys(Keys.CONTROL, \"X\")\n",
    "\n",
    "time.sleep(2)\n",
    "\n",
    "input_element.send_keys(Keys.CONTROL, \"V\")\n",
    "input_element.send_keys(Keys.ENTER)\n",
    "\n"
   ]
  },
  {
   "cell_type": "code",
   "execution_count": 17,
   "metadata": {},
   "outputs": [],
   "source": [
    "# 파이썬에서 입력받은 값으로 검색하기\n",
    "\n",
    "from selenium import webdriver\n",
    "from selenium.webdriver.common.by import By\n",
    "from selenium.webdriver.common.keys import Keys\n",
    "\n",
    "search_query = input(\"검색할 단어를 입력하세요: \")\n",
    "\n",
    "driver = webdriver.Chrome()\n",
    "driver.get(\"http://www.naver.com\")\n",
    "\n",
    "\n",
    "input_element = driver.find_element(By.ID, \"query\")\n",
    "\n",
    "input_element.send_keys(search_query)\n",
    "\n",
    "input_element.send_keys(Keys.ENTER)\n",
    "\n"
   ]
  },
  {
   "cell_type": "code",
   "execution_count": 2,
   "metadata": {},
   "outputs": [],
   "source": [
    "from selenium import webdriver\n",
    "from selenium.webdriver.common.by import By\n",
    "from selenium.webdriver.common.keys import Keys\n",
    "from selenium.webdriver.common.action_chains import ActionChains\n",
    "\n",
    "driver = webdriver.Chrome()\n",
    "driver.get(\"http://www.naver.com\")\n",
    "\n",
    "element_to_click = driver.find_element(By.CSS_SELECTOR, \"#shortcutArea > ul > li:nth-child(3) > a > span.service_icon.type_blog\")\n",
    "\n",
    "element_to_click.click()\n"
   ]
  },
  {
   "cell_type": "code",
   "execution_count": 3,
   "metadata": {},
   "outputs": [],
   "source": [
    "# 드래그 앤 드롭하기\n",
    "\n",
    "from selenium import webdriver\n",
    "from selenium.webdriver.common.by import By\n",
    "from selenium.webdriver.common.keys import Keys\n",
    "from selenium.webdriver.common.action_chains import ActionChains\n",
    "\n",
    "driver = webdriver.Chrome()\n",
    "driver.get(\"http://www.naver.com\")\n",
    "\n",
    "source = driver.find_element(By.CSS_SELECTOR, \"#shortcutArea > ul > li:nth-child(3) > a > span.service_icon.type_blog\")\n",
    "target = driver.find_element(By.CSS_SELECTOR, \"#query\")\n",
    "\n",
    "actions = ActionChains(driver)\n",
    "actions.drag_and_drop(source, target).perform()\n",
    "\n",
    "target.send_keys(Keys.ENTER)"
   ]
  },
  {
   "cell_type": "code",
   "execution_count": 4,
   "metadata": {},
   "outputs": [],
   "source": [
    "# 마우스 오버하기\n",
    "\n",
    "from selenium import webdriver\n",
    "from selenium.webdriver.common.by import By\n",
    "from selenium.webdriver.common.keys import Keys\n",
    "from selenium.webdriver.common.action_chains import ActionChains\n",
    "\n",
    "driver = webdriver.Chrome()\n",
    "driver.get(\"http://www.naver.com\")\n",
    "\n",
    "hover_element = driver.find_element(By.CSS_SELECTOR, '#newsstand > div.MediaView-module__media_area___Z4js3 > div > div.MediaSubscriptionView-module__subscription_group___peb21 > div:nth-child(1) > a')\n",
    "\n",
    "actions = ActionChains(driver)\n",
    "actions.move_to_element(hover_element).perform()\n"
   ]
  },
  {
   "cell_type": "code",
   "execution_count": 6,
   "metadata": {},
   "outputs": [],
   "source": [
    "# 스크롤바 이동하기\n",
    "\n",
    "from selenium import webdriver\n",
    "\n",
    "driver = webdriver.Chrome()\n",
    "driver.get(\"http://www.naver.com\")\n",
    "\n",
    "driver.execute_script(\"window.scrollTo(0, 500)\")\n"
   ]
  },
  {
   "cell_type": "code",
   "execution_count": 8,
   "metadata": {},
   "outputs": [],
   "source": [
    "from selenium import webdriver\n",
    "\n",
    "driver = webdriver.Chrome()\n",
    "driver.get(\"http://www.naver.com\")\n",
    "\n",
    "driver.execute_script(\"window.scrollTo(0, document.body.scrollheight)\")"
   ]
  },
  {
   "cell_type": "code",
   "execution_count": 11,
   "metadata": {},
   "outputs": [],
   "source": [
    "#특정 요소 위치로 스크롤바 이동하기\n",
    "\n",
    "from selenium import webdriver\n",
    "\n",
    "driver = webdriver.Chrome()\n",
    "driver.get(\"http://www.naver.com\")\n",
    "\n",
    "element = driver.find_element(By.PARTIAL_LINK_TEXT, '증시')\n",
    "\n",
    "driver.execute_script(\"arguments[0].scrollIntoView({behavior: 'smooth', block: 'center', inline: 'center'});\", element)"
   ]
  },
  {
   "cell_type": "code",
   "execution_count": 21,
   "metadata": {},
   "outputs": [
    {
     "name": "stdout",
     "output_type": "stream",
     "text": [
      "현재 URL: https://land.naver.com/\n",
      "현재 페이지 제목: 네이버페이 부동산\n"
     ]
    }
   ],
   "source": [
    "# 브라우저 창 전환하기\n",
    "\n",
    "from selenium import webdriver\n",
    "import time\n",
    "\n",
    "driver = webdriver.Chrome()\n",
    "driver.get(\"http://www.naver.com\")\n",
    "\n",
    "xpath = '//*[@id=\"shortcutArea\"]/ul/li[7]/a/span[1]'\n",
    "real_estate = driver.find_element(By.XPATH, xpath)\n",
    "real_estate.click()\n",
    "\n",
    "time.sleep(2)\n",
    "\n",
    "window_handles = driver.window_handles\n",
    "driver.switch_to.window(window_handles[1])\n",
    "\n",
    "print(\"현재 URL:\", driver.current_url)\n",
    "print(\"현재 페이지 제목:\", driver.title)"
   ]
  },
  {
   "cell_type": "code",
   "execution_count": 22,
   "metadata": {},
   "outputs": [],
   "source": [
    "# 스크린샷하기\n",
    "\n",
    "from selenium import webdriver\n",
    "\n",
    "driver = webdriver.Chrome()\n",
    "driver.get(\"http://www.google.com\")\n",
    "\n",
    "driver.save_screenshot(\"full_page_screenshot.png\")\n",
    "driver.quit()"
   ]
  },
  {
   "cell_type": "code",
   "execution_count": 23,
   "metadata": {},
   "outputs": [],
   "source": [
    "# 웹 브라우저를 띄우지 않고 자동화하기\n",
    "\n",
    "from selenium import webdriver\n",
    "\n",
    "options =  webdriver.ChromeOptions()\n",
    "options.add_argument(\"--headless\")\n",
    "\n",
    "driver = webdriver.Chrome(options=options)\n",
    "driver.get(\"http://www.google.com\")\n",
    "\n",
    "element = driver.find_element(By.XPATH, '/html/body/div[1]/div[2]/div/img')\n",
    "element.screenshot(\"element_screenshot_headlessmode.png\")\n",
    "\n",
    "driver.quit()"
   ]
  },
  {
   "cell_type": "code",
   "execution_count": null,
   "metadata": {},
   "outputs": [],
   "source": []
  }
 ],
 "metadata": {
  "kernelspec": {
   "display_name": "Python 3",
   "language": "python",
   "name": "python3"
  },
  "language_info": {
   "codemirror_mode": {
    "name": "ipython",
    "version": 3
   },
   "file_extension": ".py",
   "mimetype": "text/x-python",
   "name": "python",
   "nbconvert_exporter": "python",
   "pygments_lexer": "ipython3",
   "version": "3.13.1"
  }
 },
 "nbformat": 4,
 "nbformat_minor": 2
}
