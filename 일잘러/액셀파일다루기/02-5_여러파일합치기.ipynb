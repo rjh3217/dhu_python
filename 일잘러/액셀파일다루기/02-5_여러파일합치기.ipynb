{
 "cells": [
  {
   "cell_type": "code",
   "execution_count": 12,
   "metadata": {},
   "outputs": [],
   "source": [
    "from openpyxl import load_workbook, Workbook\n",
    "import os\n",
    "\n",
    "new_wb = Workbook()\n",
    "new_ws = new_wb.active\n",
    "new_ws.title = \"수신내역\"\n",
    "\n",
    "new_ws.append([\"수신시간\", \"발신신호\", \"페이지수\", \"용량\"])\n",
    "\n",
    "for filename in os.listdir(\"./fax\"):\n",
    "    wb = load_workbook(\"./fax/\" + filename)\n",
    "    ws = wb.active\n",
    "\n",
    "    for row in ws.iter_rows(min_row=2, values_only=True):\n",
    "        new_ws.append(row)\n",
    "\n",
    "new_wb.save(\"10월팩스수신내역.xlsx\")"
   ]
  },
  {
   "cell_type": "code",
   "execution_count": 11,
   "metadata": {},
   "outputs": [
    {
     "data": {
      "text/plain": [
       "['2023-10-02 1100.xlsx',\n",
       " '2023-10-04 0814.xlsx',\n",
       " '2023-10-06 0715.xlsx',\n",
       " '2023-10-07 0427.xlsx',\n",
       " '2023-10-07 0712.xlsx',\n",
       " '2023-10-09 0443.xlsx',\n",
       " '2023-10-09 0938.xlsx',\n",
       " '2023-10-10 0557.xlsx',\n",
       " '2023-10-12 0344.xlsx',\n",
       " '2023-10-13 0731.xlsx',\n",
       " '2023-10-14 0418.xlsx',\n",
       " '2023-10-14 0749.xlsx',\n",
       " '2023-10-14 1218.xlsx',\n",
       " '2023-10-15 1921.xlsx',\n",
       " '2023-10-15 2007.xlsx',\n",
       " '2023-10-16 1242.xlsx',\n",
       " '2023-10-16 2128.xlsx',\n",
       " '2023-10-18 0258.xlsx',\n",
       " '2023-10-20 0215.xlsx',\n",
       " '2023-10-20 1123.xlsx',\n",
       " '2023-10-22 0538.xlsx',\n",
       " '2023-10-22 2203.xlsx',\n",
       " '2023-10-25 1119.xlsx',\n",
       " '2023-10-26 0722.xlsx',\n",
       " '2023-10-26 1502.xlsx',\n",
       " '2023-10-28 1003.xlsx',\n",
       " '2023-10-28 1700.xlsx',\n",
       " '2023-10-29 1652.xlsx',\n",
       " '2023-10-31 1114.xlsx',\n",
       " '2023-10-31 1639.xlsx']"
      ]
     },
     "execution_count": 11,
     "metadata": {},
     "output_type": "execute_result"
    }
   ],
   "source": [
    "os.listdir(\"./fax\")"
   ]
  },
  {
   "cell_type": "code",
   "execution_count": null,
   "metadata": {},
   "outputs": [],
   "source": []
  }
 ],
 "metadata": {
  "kernelspec": {
   "display_name": "Python 3",
   "language": "python",
   "name": "python3"
  },
  "language_info": {
   "codemirror_mode": {
    "name": "ipython",
    "version": 3
   },
   "file_extension": ".py",
   "mimetype": "text/x-python",
   "name": "python",
   "nbconvert_exporter": "python",
   "pygments_lexer": "ipython3",
   "version": "3.13.1"
  }
 },
 "nbformat": 4,
 "nbformat_minor": 2
}
