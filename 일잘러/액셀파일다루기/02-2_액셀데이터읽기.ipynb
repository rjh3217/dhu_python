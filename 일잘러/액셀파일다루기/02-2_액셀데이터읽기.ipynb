{
 "cells": [
  {
   "cell_type": "code",
   "execution_count": 6,
   "metadata": {},
   "outputs": [
    {
     "name": "stdout",
     "output_type": "stream",
     "text": [
      "12월\n"
     ]
    }
   ],
   "source": [
    "from openpyxl import load_workbook\n",
    "\n",
    "wb = load_workbook(\"월별구매고객리스트.xlsx\")\n",
    "\n",
    "ws = wb.active\n",
    "\n",
    "print(ws.title)\n",
    "\n"
   ]
  },
  {
   "cell_type": "code",
   "execution_count": 11,
   "metadata": {},
   "outputs": [
    {
     "name": "stdout",
     "output_type": "stream",
     "text": [
      "구매제품\n"
     ]
    }
   ],
   "source": [
    "#시트이르 지정하여 불러오기\n",
    "\n",
    "from openpyxl import load_workbook\n",
    "\n",
    "wb = load_workbook(\"월별구매고객리스트.xlsx\")\n",
    "\n",
    "ws = wb[\"11월\"]\n",
    "\n",
    "print(ws[\"B2\"].value)"
   ]
  },
  {
   "cell_type": "code",
   "execution_count": 12,
   "metadata": {},
   "outputs": [
    {
     "name": "stdout",
     "output_type": "stream",
     "text": [
      "['10월', '11월', '12월', '2023년_전체']\n"
     ]
    }
   ],
   "source": [
    "# 전체 시트 목록 확인하기\n",
    "wb = load_workbook(\"월별구매고객리스트.xlsx\")\n",
    "sheet_names = wb.sheetnames\n",
    "print(sheet_names)"
   ]
  },
  {
   "cell_type": "code",
   "execution_count": 15,
   "metadata": {},
   "outputs": [
    {
     "name": "stdout",
     "output_type": "stream",
     "text": [
      "['11월', None, None, None, None, None, None, None]\n",
      "['구매일자', '구매제품', '수량', '고객명', '소속', '기존고객여부', '단가', '매출액']\n",
      "[datetime.datetime(2023, 11, 1, 0, 0), 'D제품', 3, '최예아', '소속 없음', '기존', 68000, '=C3*G9']\n",
      "[datetime.datetime(2023, 11, 4, 0, 0), 'B제품', 3, '임도우', '소속 없음', '기존', 18000, '=C4*G4']\n",
      "[datetime.datetime(2023, 11, 11, 0, 0), 'C제품', 2, '최하원', '누아컴퍼니', '기존', 36000, '=C5*G5']\n",
      "[datetime.datetime(2023, 11, 12, 0, 0), 'C제품', 1, '임하후', '후코퍼레이션', '기존', 36000, '=C6*G6']\n",
      "[datetime.datetime(2023, 11, 16, 0, 0), 'C제품', 1, '윤서원', '㈜서원', '신규', 36000, '=C7*G7']\n",
      "[datetime.datetime(2023, 11, 25, 0, 0), 'B제품', 1, '최민원', '위아연구소', '기존', 18000, '=C8*G8']\n",
      "[datetime.datetime(2023, 11, 28, 0, 0), 'A제품', 1, '윤서우', '주식회사 라이언', '신규', 20000, '=C9*G9']\n",
      "[datetime.datetime(2023, 11, 30, 0, 0), 'A제품', 2, '이도준', '아름대학교', '신규', 20000, '=C10*G10']\n"
     ]
    }
   ],
   "source": [
    "#시트 전체 데이터 가져오기\n",
    "from openpyxl import load_workbook\n",
    "wb = load_workbook(\"월별구매고객리스트.xlsx\")\n",
    "ws = wb[\"11월\"]\n",
    "\n",
    "for row in ws.rows:\n",
    "    row_values = [cell.value for cell in row]\n",
    "    print(row_values)\n"
   ]
  },
  {
   "cell_type": "code",
   "execution_count": 19,
   "metadata": {},
   "outputs": [
    {
     "name": "stdout",
     "output_type": "stream",
     "text": [
      "[datetime.datetime(2023, 11, 1, 0, 0), 'D제품', 3, '최예아', '소속 없음', '기존', 68000, '=C3*G9']\n",
      "[datetime.datetime(2023, 11, 4, 0, 0), 'B제품', 3, '임도우', '소속 없음', '기존', 18000, '=C4*G4']\n",
      "[datetime.datetime(2023, 11, 11, 0, 0), 'C제품', 2, '최하원', '누아컴퍼니', '기존', 36000, '=C5*G5']\n",
      "[datetime.datetime(2023, 11, 12, 0, 0), 'C제품', 1, '임하후', '후코퍼레이션', '기존', 36000, '=C6*G6']\n",
      "[datetime.datetime(2023, 11, 16, 0, 0), 'C제품', 1, '윤서원', '㈜서원', '신규', 36000, '=C7*G7']\n",
      "[datetime.datetime(2023, 11, 25, 0, 0), 'B제품', 1, '최민원', '위아연구소', '기존', 18000, '=C8*G8']\n",
      "[datetime.datetime(2023, 11, 28, 0, 0), 'A제품', 1, '윤서우', '주식회사 라이언', '신규', 20000, '=C9*G9']\n",
      "[datetime.datetime(2023, 11, 30, 0, 0), 'A제품', 2, '이도준', '아름대학교', '신규', 20000, '=C10*G10']\n"
     ]
    }
   ],
   "source": [
    "# 특정 행을 지정하여 가져오기\n",
    "from openpyxl import load_workbook\n",
    "wb = load_workbook(\"월별구매고객리스트.xlsx\")\n",
    "ws = wb[\"11월\"]\n",
    "\n",
    "new_rows = list(ws.rows)[2:]\n",
    "\n",
    "# print(new_rows)\n",
    "\n",
    "for row in new_rows:\n",
    "    row_values = [cell.value for cell in row]\n",
    "    print(row_values)"
   ]
  },
  {
   "cell_type": "code",
   "execution_count": null,
   "metadata": {},
   "outputs": [],
   "source": []
  }
 ],
 "metadata": {
  "kernelspec": {
   "display_name": "Python 3",
   "language": "python",
   "name": "python3"
  },
  "language_info": {
   "codemirror_mode": {
    "name": "ipython",
    "version": 3
   },
   "file_extension": ".py",
   "mimetype": "text/x-python",
   "name": "python",
   "nbconvert_exporter": "python",
   "pygments_lexer": "ipython3",
   "version": "3.13.1"
  }
 },
 "nbformat": 4,
 "nbformat_minor": 2
}
