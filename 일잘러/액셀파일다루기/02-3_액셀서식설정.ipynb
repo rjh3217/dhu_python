{
 "cells": [
  {
   "cell_type": "code",
   "execution_count": 4,
   "metadata": {},
   "outputs": [],
   "source": [
    "# 글꼴 스타일 설정\n",
    "\n",
    "from openpyxl import Workbook\n",
    "from openpyxl.styles import Font\n",
    "\n",
    "wb = Workbook()\n",
    "ws = wb.active\n",
    "\n",
    "cell = ws[\"A1\"]\n",
    "cell.value = \"Hello world\"\n",
    "\n",
    "cell.font = Font(\n",
    "    color=\"ff0000\", \n",
    "    italic=True,\n",
    "    bold=True,\n",
    "    size=20\n",
    ")\n",
    "\n",
    "wb.save(\"액셀서실.xlsx\")"
   ]
  },
  {
   "cell_type": "code",
   "execution_count": 14,
   "metadata": {},
   "outputs": [],
   "source": [
    "# 셀 서식 설정\n",
    "from openpyxl import Workbook\n",
    "from openpyxl.styles import Font\n",
    "from openpyxl.styles import PatternFill,Border,Side,Alignment\n",
    "\n",
    "wb = Workbook()\n",
    "ws = wb.active\n",
    "\n",
    "cell = ws[\"A1\"]\n",
    "cell.value = \"Hello world\"\n",
    "\n",
    "cell.font = Font(\n",
    "    color=\"ff0000\", \n",
    "    italic=True,\n",
    "    bold=True,\n",
    "    size=20\n",
    ")\n",
    "\n",
    "# A열의 너비를 50으로 설정\n",
    "\n",
    "ws.column_dimensions[\"A\"].width = 50\n",
    "ws.row_dimensions[1].height = 50\n",
    "\n",
    "yellow_fill = PatternFill(start_color=\"ffff00\", end_color=\"ffff00\", fill_type=\"solid\")\n",
    "cell.fill = yellow_fill\n",
    "\n",
    "thin_size = Side(style=\"thin\")\n",
    "cell.border = Border(\n",
    "    left=thin_size,\n",
    "    right=thin_size,\n",
    "    top=thin_size,\n",
    "    bottom=thin_size\n",
    ")\n",
    "\n",
    "cell.alignment = Alignment(horizontal=\"center\", vertical=\"center\")\n",
    "\n",
    "wb.save(\"액셀서실.xlsx\")"
   ]
  },
  {
   "cell_type": "code",
   "execution_count": 20,
   "metadata": {},
   "outputs": [],
   "source": [
    "# 데이터 형식 설정하기\n",
    "\n",
    "from openpyxl import Workbook\n",
    "from datetime import datetime\n",
    "\n",
    "wb = Workbook()\n",
    "ws = wb.active\n",
    "\n",
    "ws[\"A1\"] = 1234567.890123\n",
    "ws[\"A1\"].number_format = \"#,##0.00\"\n",
    "\n",
    "ws[\"B1\"] = 0.12345\n",
    "ws[\"B1\"].number_format = \"0.0 %\"\n",
    "\n",
    "ws[\"C1\"] = datetime(2023, 9, 7)\n",
    "ws[\"C1\"].number_format = \"YYYY-MM-DD\"\n",
    "\n",
    "ws[\"D1\"] = 1234567.89\n",
    "ws[\"D1\"].number_format = \"₩#,##0\"\n",
    "\n",
    "wb.save(\"표시형식설정.xlsx\")\n"
   ]
  },
  {
   "cell_type": "code",
   "execution_count": null,
   "metadata": {},
   "outputs": [],
   "source": []
  }
 ],
 "metadata": {
  "kernelspec": {
   "display_name": "Python 3",
   "language": "python",
   "name": "python3"
  },
  "language_info": {
   "codemirror_mode": {
    "name": "ipython",
    "version": 3
   },
   "file_extension": ".py",
   "mimetype": "text/x-python",
   "name": "python",
   "nbconvert_exporter": "python",
   "pygments_lexer": "ipython3",
   "version": "3.13.1"
  }
 },
 "nbformat": 4,
 "nbformat_minor": 2
}
