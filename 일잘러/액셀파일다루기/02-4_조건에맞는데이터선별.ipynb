{
 "cells": [
  {
   "cell_type": "code",
   "execution_count": 9,
   "metadata": {},
   "outputs": [
    {
     "name": "stdout",
     "output_type": "stream",
     "text": [
      "[datetime.datetime(2023, 10, 16, 0, 0), 'B제품', 1, '이남연', '다알아연구소', '신규', 18000, 18000]\n",
      "[datetime.datetime(2023, 10, 22, 0, 0), 'B제품', 1, '최연화', '일일컴퍼니', '신규', 18000, 18000]\n",
      "[datetime.datetime(2023, 10, 29, 0, 0), 'C제품', 4, '황수지', '소속 없음', '신규', 36000, 144000]\n"
     ]
    }
   ],
   "source": [
    "from openpyxl import load_workbook\n",
    "\n",
    "wb = load_workbook(\"월별구매고객리스트.xlsx\",data_only=True)\n",
    "ws = wb[\"10월\"]\n",
    "new_rows = list(ws.rows)[2:]\n",
    "\n",
    "for row in new_rows:\n",
    "    if row[5].value == \"신규\":\n",
    "      row_values = [cell.value for cell in row]\n",
    "      print(row_values)"
   ]
  },
  {
   "cell_type": "code",
   "execution_count": 3,
   "metadata": {},
   "outputs": [
    {
     "name": "stdout",
     "output_type": "stream",
     "text": [
      "[datetime.datetime(2023, 10, 16, 0, 0), 'B제품', 1, '이남연', '다알아연구소', '신규', 18000, 18000]\n",
      "[datetime.datetime(2023, 10, 22, 0, 0), 'B제품', 1, '최연화', '일일컴퍼니', '신규', 18000, 18000]\n",
      "[datetime.datetime(2023, 10, 29, 0, 0), 'C제품', 4, '황수지', '소속 없음', '신규', 36000, 144000]\n",
      "[datetime.datetime(2023, 11, 16, 0, 0), 'C제품', 1, '윤서원', '㈜서원', '신규', 36000, 36000]\n",
      "[datetime.datetime(2023, 11, 28, 0, 0), 'A제품', 1, '윤서우', '주식회사 라이언', '신규', 20000, 20000]\n",
      "[datetime.datetime(2023, 11, 30, 0, 0), 'A제품', 2, '이도준', '아름대학교', '신규', 20000, 40000]\n",
      "[datetime.datetime(2023, 12, 17, 0, 0), 'C제품', 1, '최민은', '아자코퍼레이션', '신규', 36000, 36000]\n",
      "[datetime.datetime(2023, 12, 22, 0, 0), 'B제품', 1, '박서은', '상상대학교', '신규', 18000, 18000]\n",
      "[datetime.datetime(2023, 12, 27, 0, 0), 'A제품', 4, '임지은', '주식회사 지은', '신규', 20000, 80000]\n"
     ]
    }
   ],
   "source": [
    "#여러 시트에서 데이터 추출\n",
    "\n",
    "from openpyxl import load_workbook\n",
    "wb = load_workbook(\"월별구매고객리스트.xlsx\",data_only=True)\n",
    "\n",
    "months = [\"10월\", \"11월\", \"12월\"]\n",
    "\n",
    "for month in months:\n",
    "    ws = wb[month]\n",
    "\n",
    "    new_rows = list(ws.rows)[2:]\n",
    "\n",
    "    for row in new_rows:\n",
    "        if row[5].value == \"신규\":\n",
    "            row_values = [cell.value for cell in row]\n",
    "            print(row_values)"
   ]
  },
  {
   "cell_type": "code",
   "execution_count": 7,
   "metadata": {},
   "outputs": [],
   "source": [
    "# 제품별로 시트 분리하는 코드 추가\n",
    "\n",
    "from openpyxl import load_workbook, Workbook #Workbook 꼭 불러오기\n",
    "wb = load_workbook(\"월별구매고객리스트.xlsx\",data_only=True)\n",
    "\n",
    "new_wb = Workbook()\n",
    "new_ws = new_wb.active\n",
    "\n",
    "months = [\"10월\", \"11월\", \"12월\"]\n",
    "\n",
    "for month in months:\n",
    "    ws = wb[month]\n",
    "    index_row = [cell.value for cell in list(ws.rows)[1]]\n",
    "    new_rows = list(ws.rows)[2:]\n",
    "\n",
    "    for row in new_rows:\n",
    "        if row[5].value == \"신규\":\n",
    "            product = row[1].value\n",
    "\n",
    "            if product not in new_wb.sheetnames:\n",
    "                new_wb.create_sheet(title=product)\n",
    "                product_ws = new_wb[product]\n",
    "                product_ws.append(index_row)\n",
    "            \n",
    "            product_ws = new_wb[product]\n",
    "            product_ws.append([cell.value for cell in row])\n",
    "\n",
    "del new_wb[\"Sheet\"] #기존에 있는 워크시트 삭제\n",
    "new_wb.save(\"제품신규고객리스트.xlsx\")\n",
    "\n"
   ]
  },
  {
   "cell_type": "code",
   "execution_count": null,
   "metadata": {},
   "outputs": [],
   "source": []
  }
 ],
 "metadata": {
  "kernelspec": {
   "display_name": "Python 3",
   "language": "python",
   "name": "python3"
  },
  "language_info": {
   "codemirror_mode": {
    "name": "ipython",
    "version": 3
   },
   "file_extension": ".py",
   "mimetype": "text/x-python",
   "name": "python",
   "nbconvert_exporter": "python",
   "pygments_lexer": "ipython3",
   "version": "3.13.1"
  }
 },
 "nbformat": 4,
 "nbformat_minor": 2
}
