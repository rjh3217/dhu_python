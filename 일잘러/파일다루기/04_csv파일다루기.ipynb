{
 "cells": [
  {
   "cell_type": "code",
   "execution_count": 1,
   "metadata": {},
   "outputs": [],
   "source": [
    "# csv 쓰기\n",
    "\n",
    "import csv\n",
    "with open(\"./example.csv\", \"w\", encoding=\"cp949\", newline=\"\") as file:\n",
    "     csv_writer = csv.writer(file)\n",
    "\n",
    "     csv_writer.writerow([\"이름\", \"나이\", \"직업\"])\n",
    "     csv_writer.writerow([\"박은영\", 30, \"엔지니어\"])\n",
    "     csv_writer.writerow([\"김세빛\", 25, \"디자니어\"])\n",
    "     csv_writer.writerow([\"안휘수\", 35, \"의사\"])\n",
    "     csv_writer.writerow([\"정현욱\", 40, \"선생님\"])\n",
    "     csv_writer.writerow([\"강찬영\", 22, \"학생\"])\n",
    "\n",
    "     "
   ]
  },
  {
   "cell_type": "code",
   "execution_count": 2,
   "metadata": {},
   "outputs": [
    {
     "name": "stdout",
     "output_type": "stream",
     "text": [
      "['이름', '나이', '직업']\n",
      "['박은영', '30', '엔지니어']\n",
      "['김세빛', '25', '디자니어']\n",
      "['안휘수', '35', '의사']\n",
      "['정현욱', '40', '선생님']\n",
      "['강찬영', '22', '학생']\n"
     ]
    }
   ],
   "source": [
    "#csv 읽기\n",
    "\n",
    "with open(\"./example.csv\", \"r\", encoding=\"cp949\") as file:\n",
    "    csv_reader = csv.reader(file)\n",
    "\n",
    "    for row in csv_reader:\n",
    "        print(row)"
   ]
  },
  {
   "cell_type": "code",
   "execution_count": 4,
   "metadata": {},
   "outputs": [
    {
     "name": "stdout",
     "output_type": "stream",
     "text": [
      "{'이름': '박은영', '나이': '30', '직업': '엔지니어'}\n",
      "{'이름': '김세빛', '나이': '25', '직업': '디자니어'}\n",
      "{'이름': '안휘수', '나이': '35', '직업': '의사'}\n",
      "{'이름': '정현욱', '나이': '40', '직업': '선생님'}\n",
      "{'이름': '강찬영', '나이': '22', '직업': '학생'}\n"
     ]
    }
   ],
   "source": [
    "with open(\"./example.csv\", \"r\", encoding=\"cp949\") as file:\n",
    "    csv_dict_reader = csv.DictReader(file)\n",
    "\n",
    "    for row in csv_dict_reader:\n",
    "        print(row)"
   ]
  },
  {
   "cell_type": "code",
   "execution_count": 7,
   "metadata": {},
   "outputs": [
    {
     "name": "stdout",
     "output_type": "stream",
     "text": [
      "박은영 30 엔지니어\n",
      "김세빛 25 디자니어\n",
      "안휘수 35 의사\n",
      "정현욱 40 선생님\n",
      "강찬영 22 학생\n"
     ]
    }
   ],
   "source": [
    "with open(\"example.csv\", \"r\", encoding=\"cp949\") as file:\n",
    "    csv_dict_reader = csv.DictReader(file)\n",
    "\n",
    "    for row in csv_dict_reader:\n",
    "        print(row[\"이름\"], row[\"나이\"], row[\"직업\"])"
   ]
  },
  {
   "cell_type": "code",
   "execution_count": 8,
   "metadata": {},
   "outputs": [
    {
     "name": "stdout",
     "output_type": "stream",
     "text": [
      "['이름', '나이', '직업']\n",
      "['박은영', '30', '엔지니어']\n",
      "['김세빛', '25', \"'디자이너\", \" 인플루언서'\"]\n",
      "['안희수', '35', \"'의사\", \" 프로그래머'\"]\n",
      "['정현욱', '40', '선생님']\n",
      "['강찬영', '22', '학생']\n"
     ]
    }
   ],
   "source": [
    "with open(\"example2.csv\", \"r\", encoding=\"cp949\") as file:\n",
    "    csv_reader = csv.reader(file)\n",
    "\n",
    "    for a in csv_reader:\n",
    "        print(a)"
   ]
  },
  {
   "cell_type": "code",
   "execution_count": 11,
   "metadata": {},
   "outputs": [
    {
     "name": "stdout",
     "output_type": "stream",
     "text": [
      "['이름', '나이', '직업']\n",
      "['박은영', '30', '엔지니어']\n",
      "['김세빛', '25', '디자이너, 인플루언서']\n",
      "['안희수', '35', '의사, 프로그래머']\n",
      "['정현욱', '40', '선생님']\n",
      "['강찬영', '22', '학생']\n"
     ]
    }
   ],
   "source": [
    "with open(\"example2.csv\", \"r\", encoding=\"cp949\") as file:\n",
    "    csv_reader = csv.reader(file,quotechar=\"'\")\n",
    "\n",
    "    for a in csv_reader:\n",
    "        print(a)"
   ]
  },
  {
   "cell_type": "code",
   "execution_count": null,
   "metadata": {},
   "outputs": [],
   "source": []
  }
 ],
 "metadata": {
  "kernelspec": {
   "display_name": "Python 3",
   "language": "python",
   "name": "python3"
  },
  "language_info": {
   "codemirror_mode": {
    "name": "ipython",
    "version": 3
   },
   "file_extension": ".py",
   "mimetype": "text/x-python",
   "name": "python",
   "nbconvert_exporter": "python",
   "pygments_lexer": "ipython3",
   "version": "3.13.1"
  }
 },
 "nbformat": 4,
 "nbformat_minor": 2
}
