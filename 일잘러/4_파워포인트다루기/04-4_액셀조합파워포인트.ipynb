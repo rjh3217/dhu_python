{
 "cells": [
  {
   "cell_type": "code",
   "execution_count": 11,
   "metadata": {},
   "outputs": [
    {
     "name": "stdout",
     "output_type": "stream",
     "text": [
      "A제품 전체 데이터: [['판매월', '판매량', '판매금액'], ['1월', 70, 140000], ['2월', 65, 130000], ['3월', 80, 160000], ['4월', 75, 150000], ['5월', 82, 164000], ['6월', 73, 146000]]\n",
      "월별 판매량: {'A제품': [70, 65, 80, 75, 82, 73]}\n",
      "--------------------\n",
      "B제품 전체 데이터: [['판매월', '판매량', '판매금액'], ['1월', 40, 200000], ['2월', 48, 240000], ['3월', 45, 225000], ['4월', 42, 210000], ['5월', 34, 170000], ['6월', 37, 185000]]\n",
      "월별 판매량: {'A제품': [70, 65, 80, 75, 82, 73], 'B제품': [40, 48, 45, 42, 34, 37]}\n",
      "--------------------\n",
      "C제품 전체 데이터: [['판매월', '판매량', '판매금액'], ['1월', 33, 99000], ['2월', 50, 150000], ['3월', 44, 132000], ['4월', 53, 159000], ['5월', 62, 186000], ['6월', 48, 144000]]\n",
      "월별 판매량: {'A제품': [70, 65, 80, 75, 82, 73], 'B제품': [40, 48, 45, 42, 34, 37], 'C제품': [33, 50, 44, 53, 62, 48]}\n",
      "--------------------\n"
     ]
    }
   ],
   "source": [
    "from openpyxl import load_workbook\n",
    "from pptx import Presentation\n",
    "from pptx.util import Inches\n",
    "from pptx.enum.chart import XL_CHART_TYPE\n",
    "from pptx.chart.data import CategoryChartData\n",
    "\n",
    "wb = load_workbook(\"제품별 판매내역.xlsx\")\n",
    "sheet_names = wb.sheetnames\n",
    "\n",
    "prs = Presentation()\n",
    "\n",
    "slide_layout = prs.slide_layouts[0]\n",
    "slide = prs.slides.add_slide(slide_layout)\n",
    "slide.shapes.title.text = \"상반기 제품별 판매현황 분석\"\n",
    "\n",
    "sales_data = {}\n",
    "\n",
    "for sheet_name in sheet_names:\n",
    "    sheet = wb[sheet_name]\n",
    "\n",
    "    data = [list(row) for row in sheet.iter_rows(values_only=True)]\n",
    "    print(sheet_name, \"전체 데이터:\", data)\n",
    "\n",
    "    sales_data[sheet_name] = [row[1] for row in data[1:]]\n",
    "    print(\"월별 판매량:\", sales_data)\n",
    "    print(\"--------------------\")\n",
    "\n",
    "    slide_layout = prs.slide_layouts[5]\n",
    "    slide = prs.slides.add_slide(slide_layout)\n",
    "    slide.shapes.title.text = f\"{sheet_name}\"\n",
    "\n",
    "    rows, cols = len(data), len(data[0])\n",
    "    table = slide.shapes.add_table(rows+1, cols, Inches(0.3), Inches(2),Inches(4.3),Inches(3.8)).table\n",
    "\n",
    "    table.cell(0, 0).text = \"월별 판매 현황\"\n",
    "    table.cell(0, 0).merge(table.cell(0, cols - 1))\n",
    "\n",
    "    for row_idx, row_val in enumerate(data):\n",
    "        for col_idx, val in enumerate(row_val):\n",
    "            table.cell(row_idx+1, col_idx).text = str(val)\n",
    "\n",
    "    chart_data = CategoryChartData()\n",
    "    chart_data.categories = [row[0] for row in data[1:]]\n",
    "    chart_data.add_series(\"상반기 판매량 변화\", [row[1] for row in data[1:]])\n",
    "\n",
    "    x, y, cx ,cy =Inches(5), Inches(1.8), Inches(4.5), Inches(4.2)\n",
    "    chart = slide.shapes.add_chart(XL_CHART_TYPE.COLUMN_CLUSTERED, x , y, cx, cy, chart_data).chart\n",
    "\n",
    "    chart.has_legend = False\n",
    "    chart.plots[0].has_dat_labels = True\n",
    "\n",
    "slide_layout = prs.slide_layouts[5]\n",
    "slide = prs.slides.add_slide(slide_layout)\n",
    "slide.shapes.title.text = \"제푸별 판매 추이\"\n",
    "\n",
    "chart_data = CategoryChartData()\n",
    "chart_data.categories = [row[0] for row in data[1:]]\n",
    "for sheet_name, sales in sales_data.items():\n",
    "    chart_data.add_series(sheet_name, sales)\n",
    "\n",
    "x, y, cx, cy = Inches(1), Inches(2), Inches(8), Inches(4.5)\n",
    "chart = slide.shapes.add_chart(XL_CHART_TYPE.LINE, x, y, cx, cy, chart_data).chart\n",
    "\n",
    "chart.has_legend = True\n",
    "\n",
    "\n",
    "prs.save(\"상반기_제품별_판매현황_분석_작성중.pptx\")\n"
   ]
  },
  {
   "cell_type": "code",
   "execution_count": null,
   "metadata": {},
   "outputs": [],
   "source": []
  }
 ],
 "metadata": {
  "kernelspec": {
   "display_name": "Python 3",
   "language": "python",
   "name": "python3"
  },
  "language_info": {
   "codemirror_mode": {
    "name": "ipython",
    "version": 3
   },
   "file_extension": ".py",
   "mimetype": "text/x-python",
   "name": "python",
   "nbconvert_exporter": "python",
   "pygments_lexer": "ipython3",
   "version": "3.13.1"
  }
 },
 "nbformat": 4,
 "nbformat_minor": 2
}
