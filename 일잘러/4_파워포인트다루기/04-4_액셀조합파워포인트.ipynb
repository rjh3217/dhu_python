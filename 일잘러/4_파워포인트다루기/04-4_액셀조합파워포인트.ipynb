{
 "cells": [
  {
   "cell_type": "code",
   "execution_count": 1,
   "metadata": {},
   "outputs": [],
   "source": [
    "from openpyxl import load_workbook\n",
    "from pptx import Presentation\n",
    "from pptx.util import Inches\n",
    "from pptx.enum.chart import XL_CHART_TYPE\n",
    "from pptx.chart.data import CategoryChartData\n",
    "\n",
    "wb = load_workbook(\"제품별 판매내역.xlsx\")\n",
    "sheet_name = wb.sheetnames\n",
    "\n",
    "prs = Presentation()\n",
    "\n",
    "slide_layout = prs.slide_layouts[0]\n",
    "slide = prs.slides.add_slide(slide_layout)\n",
    "slide.shapes.title.text = \"상반기 제품별 판매현황 분석\"\n",
    "\n",
    "\n"
   ]
  },
  {
   "cell_type": "code",
   "execution_count": null,
   "metadata": {},
   "outputs": [],
   "source": []
  }
 ],
 "metadata": {
  "kernelspec": {
   "display_name": "Python 3",
   "language": "python",
   "name": "python3"
  },
  "language_info": {
   "codemirror_mode": {
    "name": "ipython",
    "version": 3
   },
   "file_extension": ".py",
   "mimetype": "text/x-python",
   "name": "python",
   "nbconvert_exporter": "python",
   "pygments_lexer": "ipython3",
   "version": "3.13.1"
  }
 },
 "nbformat": 4,
 "nbformat_minor": 2
}
