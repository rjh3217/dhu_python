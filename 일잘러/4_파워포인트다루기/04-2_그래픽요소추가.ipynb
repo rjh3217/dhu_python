{
 "cells": [
  {
   "cell_type": "code",
   "execution_count": 5,
   "metadata": {},
   "outputs": [],
   "source": [
    "from pptx import Presentation\n",
    "from pptx.util import Inches,   Pt\n",
    "from pptx.dml.color import RGBColor\n",
    "from pptx.enum.shapes import MSO_SHAPE\n",
    "\n",
    "prs = Presentation()\n",
    "slide_layout = prs.slide_layouts[5]\n",
    "slide = prs.slides.add_slide(slide_layout)\n",
    "slide.shapes.title.text = \"도형 추가하기\"\n",
    "\n",
    "left = Inches(2)\n",
    "top = Inches(2)\n",
    "width = Inches(6)\n",
    "height = Inches(4.5)\n",
    "shape = slide.shapes.add_shape(MSO_SHAPE.ROUNDED_RECTANGLE, left, top, width, height)\n",
    "\n",
    "shape.fill.solid()\n",
    "shape.fill.fore_color.rgb = RGBColor(91, 155, 213)\n",
    "shape.line.color.rgb = RGBColor(255, 102, 0)\n",
    "\n",
    "shape.text = \"둥근 직사각형\"\n",
    "shape.text_frame.paragraphs[0].font.bold = True\n",
    "shape.text_frame.paragraphs[0].font.size =  Pt(36)\n",
    "\n",
    "prs.save(\"Presentation_with_graphics.pptx\")"
   ]
  },
  {
   "cell_type": "code",
   "execution_count": 9,
   "metadata": {},
   "outputs": [],
   "source": [
    "# 이미지 추가하기\n",
    " \n",
    "from pptx import Presentation\n",
    "from pptx.util import Inches\n",
    "\n",
    "prs = Presentation()\n",
    "slide_layout = prs.slide_layouts[5]\n",
    "slide = prs.slides.add_slide(slide_layout)\n",
    "slide.shapes.title.text = \"이미지 추가하기\"\n",
    "\n",
    "img_path = \"강아지.jpg\"\n",
    "\n",
    "left = top = Inches(1.5)\n",
    "width = height = Inches(5)\n",
    "\n",
    "slide.shapes.add_picture(img_path, left, top, width, height)\n",
    "\n",
    "prs.save(\"Presentation_with_image.pptx\")\n"
   ]
  },
  {
   "cell_type": "code",
   "execution_count": 11,
   "metadata": {},
   "outputs": [],
   "source": [
    "# 차트 추가하기\n",
    "\n",
    "from pptx import Presentation\n",
    "from pptx.chart.data import CategoryChartData\n",
    "from pptx.enum.chart import XL_CHART_TYPE\n",
    "from pptx.util import Inches\n",
    "\n",
    "prs = Presentation()\n",
    "slide_layout = prs.slide_layouts[5]\n",
    "slide = prs.slides.add_slide(slide_layout)\n",
    "slide.shapes.title.text = \"차트 추가하기\"\n",
    "\n",
    "chart_data = CategoryChartData()\n",
    "chart_data.categories = [\"A제품\",\"B제품\",\"C제품\"]\n",
    "chart_data.add_series(\"잔류오염도\", (9.2, 11.4, 16.7))\n",
    "\n",
    "x, y, cx, cy = Inches(2), Inches(2), Inches(6), Inches(4.5)\n",
    "chart = slide.shapes.add_chart(\n",
    "    XL_CHART_TYPE.COLUMN_CLUSTERED, x, y, cx, cy, chart_data\n",
    ").chart\n",
    "\n",
    "chart.has_title = True\n",
    "chart.chart_title.text_frame.text = \"제품별 잔류 오염도 측정 데이터\"\n",
    "\n",
    "chart.category_axis.axis_title.text_frame.text = \"제품\"\n",
    "chart.value_axis.axis_title.text_frame.text = \"제품 사용 후 잔류 오염도\"\n",
    "\n",
    "\n",
    "prs.save(\"Presentation_with_chart.pptx\")"
   ]
  },
  {
   "cell_type": "code",
   "execution_count": null,
   "metadata": {},
   "outputs": [],
   "source": []
  }
 ],
 "metadata": {
  "kernelspec": {
   "display_name": "Python 3",
   "language": "python",
   "name": "python3"
  },
  "language_info": {
   "codemirror_mode": {
    "name": "ipython",
    "version": 3
   },
   "file_extension": ".py",
   "mimetype": "text/x-python",
   "name": "python",
   "nbconvert_exporter": "python",
   "pygments_lexer": "ipython3",
   "version": "3.13.1"
  }
 },
 "nbformat": 4,
 "nbformat_minor": 2
}
