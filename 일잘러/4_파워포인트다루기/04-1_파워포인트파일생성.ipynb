{
 "cells": [
  {
   "cell_type": "code",
   "execution_count": null,
   "metadata": {},
   "outputs": [],
   "source": [
    "from pptx import Presentation\n",
    "\n",
    "prs = Presentation()\n",
    "\n",
    "prs.slide_layouts\n",
    "\n",
    "slide_layouts = prs.slide_layouts[0]\n",
    "\n",
    "prs.slides.add_slide(slide_layouts)\n",
    "\n",
    "prs.save(\"Presentation.pptx\")\n",
    "\n"
   ]
  },
  {
   "cell_type": "code",
   "execution_count": 4,
   "metadata": {},
   "outputs": [
    {
     "name": "stdout",
     "output_type": "stream",
     "text": [
      "레이아웃 No 0: Title Slide\n",
      "레이아웃 No 1: Title and Content\n",
      "레이아웃 No 2: Section Header\n",
      "레이아웃 No 3: Two Content\n",
      "레이아웃 No 4: Comparison\n",
      "레이아웃 No 5: Title Only\n",
      "레이아웃 No 6: Blank\n",
      "레이아웃 No 7: Content with Caption\n",
      "레이아웃 No 8: Picture with Caption\n",
      "레이아웃 No 9: Title and Vertical Text\n",
      "레이아웃 No 10: Vertical Title and Text\n"
     ]
    }
   ],
   "source": [
    "from pptx import Presentation\n",
    "\n",
    "prs = Presentation()\n",
    "\n",
    "for i, layout in enumerate(prs.slide_layouts):\n",
    "    print(f\"레이아웃 No {i}: {layout.name}\")"
   ]
  },
  {
   "cell_type": "code",
   "execution_count": 8,
   "metadata": {},
   "outputs": [],
   "source": [
    "# 텍스트 추가하기\n",
    "from pptx import Presentation\n",
    "prs = Presentation()\n",
    "\n",
    "slide_layout = prs.slide_layouts[0]\n",
    "slide = prs.slides.add_slide(slide_layout)\n",
    "\n",
    "title = slide.shapes.title\n",
    "title.text = \"Hello World\"\n",
    "\n",
    "subtitle = slide.placeholders[1]\n",
    "subtitle.text = \"파이썬 파워포인트 자동화\"\n",
    "\n",
    "prs.save(\"Presentation.pptx\")"
   ]
  },
  {
   "cell_type": "code",
   "execution_count": 16,
   "metadata": {},
   "outputs": [
    {
     "name": "stdout",
     "output_type": "stream",
     "text": [
      "Placeholder 0: Title 1\n",
      "Placeholder 1: Subtitle 2\n"
     ]
    }
   ],
   "source": [
    "from pptx import Presentation\n",
    "prs = Presentation()\n",
    "\n",
    "slide_layout = prs.slide_layouts[0]\n",
    "slide = prs.slides.add_slide(slide_layout)\n",
    "\n",
    "for i, placeholder in enumerate(slide.placeholders):\n",
    "    print(f\"Placeholder {i}: {placeholder.name}\")"
   ]
  },
  {
   "cell_type": "code",
   "execution_count": 39,
   "metadata": {},
   "outputs": [],
   "source": [
    "# 텍스트 박스 추가하여 텍스트 추가하기\n",
    "\n",
    "from pptx import Presentation\n",
    "from pptx.util import Inches\n",
    "\n",
    "prs = Presentation()\n",
    "\n",
    "slide_layout = prs.slide_layouts[1]\n",
    "slide = prs.slides.add_slide(slide_layout)\n",
    "\n",
    "title = slide.shapes.title\n",
    "\n",
    "subtitle = slide.placeholders[1]\n",
    "title.text = \"제목\"\n",
    "subtitle.text = \"부제목\"\n",
    "\n",
    "left = Inches(1)\n",
    "top = Inches(2)\n",
    "width = Inches(5)\n",
    "height = Inches(1.5)\n",
    "textbox = slide.shapes.add_textbox(left,top,width,height)\n",
    "\n",
    "\n",
    "\n",
    "prs.save(\"Presentation_add_text.pptx\")"
   ]
  },
  {
   "cell_type": "code",
   "execution_count": null,
   "metadata": {},
   "outputs": [],
   "source": [
    "\n",
    "\n",
    "\n"
   ]
  }
 ],
 "metadata": {
  "kernelspec": {
   "display_name": "Python 3",
   "language": "python",
   "name": "python3"
  },
  "language_info": {
   "codemirror_mode": {
    "name": "ipython",
    "version": 3
   },
   "file_extension": ".py",
   "mimetype": "text/x-python",
   "name": "python",
   "nbconvert_exporter": "python",
   "pygments_lexer": "ipython3",
   "version": "3.13.1"
  }
 },
 "nbformat": 4,
 "nbformat_minor": 2
}
