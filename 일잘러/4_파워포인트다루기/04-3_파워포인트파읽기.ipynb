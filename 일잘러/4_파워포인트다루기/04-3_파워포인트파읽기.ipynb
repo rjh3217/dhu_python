{
 "cells": [
  {
   "cell_type": "code",
   "execution_count": 1,
   "metadata": {},
   "outputs": [],
   "source": [
    "# 파워포인트 파일 읽기\n",
    "from pptx import Presentation\n",
    "\n",
    "prs = Presentation(\"presentation_with_list.pptx\")"
   ]
  },
  {
   "cell_type": "code",
   "execution_count": 3,
   "metadata": {},
   "outputs": [
    {
     "name": "stdout",
     "output_type": "stream",
     "text": [
      "slide1\n",
      "파이썬의 장점1\n",
      "쉬운 사용법\n",
      "직관적인 문법\n",
      "slide2\n",
      "파이썬의 장점2\n",
      "높은 생산성\n",
      "빠른 개발 속도\n",
      "slide3\n",
      "파이썬의 장점3\n",
      "다양한 라이브러리와 프레임워크\n",
      "머신 러닝, 웹 개발 등에 유용\n"
     ]
    }
   ],
   "source": [
    "from pptx import Presentation\n",
    "\n",
    "prs = Presentation(\"presentation_with_list.pptx\")\n",
    "\n",
    "for slide_number, slide in enumerate(prs.slides):\n",
    "    print(f\"slide{slide_number+1}\")\n",
    "\n",
    "    for shape in slide.shapes:\n",
    "        if hasattr(shape, \"text_frame\") and shape.text_frame:\n",
    "            for paragraph in shape.text_frame.paragraphs:\n",
    "                for run in paragraph.runs:\n",
    "                    print(run.text)"
   ]
  },
  {
   "cell_type": "code",
   "execution_count": 5,
   "metadata": {},
   "outputs": [
    {
     "name": "stdout",
     "output_type": "stream",
     "text": [
      "Slide1\n",
      " 열이름 1\n",
      " 열이름 2\n",
      "1 행 1 열\n",
      "1 행 2 열\n",
      "2 행 1 열\n",
      "2 행 2 열\n"
     ]
    }
   ],
   "source": [
    "# 표 읽어 추출하기\n",
    "\n",
    "from pptx import Presentation\n",
    "prs = Presentation(\"Presentation_with_table.pptx\")\n",
    "\n",
    "for slide_number, slide in enumerate(prs.slides):\n",
    "    print(f\"Slide{slide_number+1}\")\n",
    "\n",
    "    for shape in slide.shapes:\n",
    "        if hasattr(shape, \"table\"):\n",
    "            table = shape.table\n",
    "            \n",
    "            for row in table.rows:\n",
    "                for cell in row.cells:\n",
    "                    print(cell.text)\n",
    "\n",
    "\n"
   ]
  },
  {
   "cell_type": "code",
   "execution_count": 6,
   "metadata": {},
   "outputs": [
    {
     "name": "stdout",
     "output_type": "stream",
     "text": [
      "저장된 파일명:  slide_0_image.jpg\n"
     ]
    }
   ],
   "source": [
    "from pptx import Presentation\n",
    "prs = Presentation(\"Presentation_with_image.pptx\")\n",
    "\n",
    "for slide_number, slide in enumerate(prs.slides):\n",
    "    for shape in slide.shapes:\n",
    "        if hasattr(shape, \"image\"):\n",
    "\n",
    "            image_stream = shape.image.blob\n",
    "            image_format = shape.image.ext\n",
    "\n",
    "            with open(f\"slide_{slide_number}_image.{image_format}\",\"wb\") as img_file:\n",
    "                img_file.write(image_stream)\n",
    "                print(\"저장된 파일명: \", f\"slide_{slide_number}_image.{image_format}\")\n",
    "\n",
    "        "
   ]
  },
  {
   "cell_type": "code",
   "execution_count": 1,
   "metadata": {},
   "outputs": [
    {
     "name": "stdout",
     "output_type": "stream",
     "text": [
      "Series title: 잔류오염도\n",
      "Data point: x=A제품, y=9.2\n",
      "Data point: x=B제품, y=11.4\n",
      "Data point: x=C제품, y=16.7\n"
     ]
    }
   ],
   "source": [
    "# 차트 데이터 추출\n",
    "\n",
    "from pptx import Presentation\n",
    "prs = Presentation(\"Presentation_with_chart.pptx\")\n",
    "\n",
    "for slide_number, slide in enumerate(prs.slides):\n",
    "    for shape in slide.shapes:\n",
    "        if hasattr(shape, \"chart\"):\n",
    "            chart = shape.chart\n",
    "            for series in chart.series:\n",
    "                print(f\"Series title: {series.name}\")\n",
    "\n",
    "                for x_val, y_val in zip(chart.plots[0].categories, series.values):\n",
    "                    print(f\"Data point: x={x_val}, y={y_val}\")"
   ]
  },
  {
   "cell_type": "code",
   "execution_count": null,
   "metadata": {},
   "outputs": [],
   "source": []
  }
 ],
 "metadata": {
  "kernelspec": {
   "display_name": "Python 3",
   "language": "python",
   "name": "python3"
  },
  "language_info": {
   "codemirror_mode": {
    "name": "ipython",
    "version": 3
   },
   "file_extension": ".py",
   "mimetype": "text/x-python",
   "name": "python",
   "nbconvert_exporter": "python",
   "pygments_lexer": "ipython3",
   "version": "3.13.1"
  }
 },
 "nbformat": 4,
 "nbformat_minor": 2
}
