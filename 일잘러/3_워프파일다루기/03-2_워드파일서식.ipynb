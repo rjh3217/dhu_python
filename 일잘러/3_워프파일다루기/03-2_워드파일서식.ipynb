{
 "cells": [
  {
   "cell_type": "code",
   "execution_count": 9,
   "metadata": {},
   "outputs": [],
   "source": [
    "from docx import Document\n",
    "from docx.shared import Pt, RGBColor\n",
    "from docx.oxml.ns import qn\n",
    "\n",
    "doc = Document()\n",
    "para = doc.add_paragraph()\n",
    "run = para.add_run(\"텍스트에 서식을 설정합니다.\")\n",
    "\n",
    "run.bold = True\n",
    "run.italic = True\n",
    "run.underline = True\n",
    "run.font.name = \"맑은 고딕\"\n",
    "run._r.rPr.rFonts.set(qn(\"w:eastAsia\"), \"맑은 고딕\")\n",
    "\n",
    "run.font.size = Pt(12)\n",
    "\n",
    "run.font.color.rgb = RGBColor(0X42, 0X42, 0XE9)\n",
    "\n",
    "doc.save(\"example_save_format.docx\")\n",
    "\n",
    "\n",
    "\n"
   ]
  },
  {
   "cell_type": "code",
   "execution_count": 10,
   "metadata": {},
   "outputs": [],
   "source": [
    "# 단락서식 설정하기\n",
    "\n",
    "from docx import Document\n",
    "from docx.shared import Pt\n",
    "from docx.enum.text import WD_ALIGN_PARAGRAPH as wap\n",
    "\n",
    "doc = Document()\n",
    "\n",
    "para1 = doc.add_paragraph(\"첫 번째 단락입니다,\\n 첫 번째 단락에서 두번째 줄입니다.\")\n",
    "para2 =doc.add_paragraph(\"두 번째 단락입니다,\\n 두 번째 단락에서 두번째 줄입니다.\")\n",
    "\n",
    "para2.alignment = wap.CENTER\n",
    "\n",
    "para1.paragraph_format.line_spacing = Pt(12)\n",
    "para2.paragraph_format.line_spacing = Pt(20)\n",
    "\n",
    "doc.save(\"example_para_format.docx\")\n"
   ]
  },
  {
   "cell_type": "code",
   "execution_count": null,
   "metadata": {},
   "outputs": [],
   "source": []
  }
 ],
 "metadata": {
  "kernelspec": {
   "display_name": "Python 3",
   "language": "python",
   "name": "python3"
  },
  "language_info": {
   "codemirror_mode": {
    "name": "ipython",
    "version": 3
   },
   "file_extension": ".py",
   "mimetype": "text/x-python",
   "name": "python",
   "nbconvert_exporter": "python",
   "pygments_lexer": "ipython3",
   "version": "3.13.1"
  }
 },
 "nbformat": 4,
 "nbformat_minor": 2
}
