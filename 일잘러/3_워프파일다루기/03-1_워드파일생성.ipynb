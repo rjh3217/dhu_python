{
 "cells": [
  {
   "cell_type": "code",
   "execution_count": 1,
   "metadata": {},
   "outputs": [],
   "source": [
    "from docx import Document\n",
    "\n",
    "doc = Document()\n",
    "\n",
    "doc.save(\"example.docx\")"
   ]
  },
  {
   "cell_type": "code",
   "execution_count": 2,
   "metadata": {},
   "outputs": [],
   "source": [
    "from docx import Document\n",
    "\n",
    "doc = Document(\"./회의록_템플릿.docx\")\n",
    "\n",
    "doc.save(\"회의록_240630.docx\")"
   ]
  },
  {
   "cell_type": "code",
   "execution_count": 7,
   "metadata": {},
   "outputs": [],
   "source": [
    "# 워드문서쓰기(1)\n",
    "\n",
    "from docx import Document\n",
    "from docx.enum.text import WD_ALIGN_PARAGRAPH as wap\n",
    "\n",
    "doc = Document()\n",
    "\n",
    "title = doc.add_heading(\"제목을 이곳에 작성합니다.\", level=0)\n",
    "title.alignment = wap.CENTER\n",
    "\n",
    "doc.save(\"example.docx\")"
   ]
  },
  {
   "cell_type": "code",
   "execution_count": 9,
   "metadata": {},
   "outputs": [],
   "source": [
    "# 제목을 레벨별로 추가하기\n",
    "\n",
    "from docx import Document\n",
    "from docx.enum.text import WD_ALIGN_PARAGRAPH as wap\n",
    "\n",
    "doc = Document()\n",
    "\n",
    "for level in range(0, 10):\n",
    "    title = doc.add_heading(\"제목을 이곳에 작성합니다.\", level=level)\n",
    "    title.alignment = wap.CENTER\n",
    "\n",
    "doc.save(\"example.docx\")"
   ]
  },
  {
   "cell_type": "code",
   "execution_count": 10,
   "metadata": {},
   "outputs": [],
   "source": [
    "# 단락 추가하기\n",
    "\n",
    "from docx import Document\n",
    "from docx.enum.text import WD_ALIGN_PARAGRAPH as wap\n",
    "\n",
    "doc = Document()\n",
    "\n",
    "title = doc.add_heading(\"제목을 이곳에 작성합니다.\", level=0)\n",
    "title.alignment = wap.CENTER\n",
    "\n",
    "doc.add_paragraph(\"첫 번째 단락입니다.\")\n",
    "\n",
    "doc.save(\"example.docx\")"
   ]
  },
  {
   "cell_type": "code",
   "execution_count": 11,
   "metadata": {},
   "outputs": [],
   "source": [
    "#add_rum() 함수\n",
    "from docx import Document\n",
    "from docx.enum.text import WD_ALIGN_PARAGRAPH as wap\n",
    "\n",
    "doc = Document()\n",
    "\n",
    "title = doc.add_heading(\"제목을 이곳에 작성합니다.\", level=0)\n",
    "title.alignment = wap.CENTER\n",
    "\n",
    "p = doc.add_paragraph(\"첫 번째 단락입니다.\")\n",
    "p.add_run(\"내용을 추가합니다.\")\n",
    "\n",
    "doc.save(\"example.docx\")"
   ]
  },
  {
   "cell_type": "code",
   "execution_count": 14,
   "metadata": {},
   "outputs": [],
   "source": [
    "# 단락 끼우넣기\n",
    "\n",
    "from docx import Document\n",
    "from docx.enum.text import WD_ALIGN_PARAGRAPH as wap\n",
    "\n",
    "doc = Document()\n",
    "\n",
    "title = doc.add_heading(\"제목을 이곳에 작성합니다.\", level=0)\n",
    "title.alignment = wap.CENTER\n",
    "\n",
    "p = doc.add_paragraph(\"첫 번째 단락입니다.\")\n",
    "\n",
    "p2 = doc.add_paragraph(\"이것은 두 번째 단락입니다.\")\n",
    "p3 = doc.add_paragraph(\"이것은 세 번째 단락입니다.\")\n",
    "\n",
    "p.insert_paragraph_before(\"이것은 첫 번째 단락 앞에 새로 끼워넣은 단락입니다.\")\n",
    "\n",
    "doc.save(\"example.docx\")"
   ]
  },
  {
   "cell_type": "code",
   "execution_count": 18,
   "metadata": {},
   "outputs": [],
   "source": [
    "#단락 수정하기\n",
    "\n",
    "from docx import Document\n",
    "from docx.enum.text import WD_ALIGN_PARAGRAPH as wap\n",
    "\n",
    "doc = Document()\n",
    "\n",
    "title = doc.add_heading(\"제목을 이곳에 작성합니다.\", level=0)\n",
    "title.alignment = wap.CENTER\n",
    "\n",
    "p = doc.add_paragraph(\"첫 번째 단락입니다.\")\n",
    "\n",
    "p2 = doc.add_paragraph(\"이것은 두 번째 단락입니다.\")\n",
    "p3 = doc.add_paragraph(\"이것은 세 번째 단락입니다.\")\n",
    "\n",
    "p.insert_paragraph_before(\"이것은 첫 번째 단락 앞에 새로 끼워넣은 단락입니다.\")\n",
    "\n",
    "p2.clear()\n",
    "p2.add_run(\"두 번째 단락의 텍스트가 수정되었습니다.\")\n",
    "\n",
    "doc.save(\"example.docx\")"
   ]
  },
  {
   "cell_type": "code",
   "execution_count": 25,
   "metadata": {},
   "outputs": [],
   "source": [
    "## 워드 문서 쓰기(2)\n",
    "from docx import Document\n",
    "doc = Document()\n",
    "\n",
    "table = doc.add_table(rows=3, cols=3)\n",
    "table.style = \"Table Grid\"\n",
    "\n",
    "hdr_cells = table.rows[0].cells\n",
    "hdr_cells[0].text = \"헤더 1\"\n",
    "hdr_cells[1].text = \"헤더 2\"\n",
    "hdr_cells[2].text = \"헤더 3\"\n",
    "\n",
    "for i in range(1, 3):\n",
    "    row_cells = table.rows[i].cells\n",
    "    row_cells[0].text = f\"행{i}, 열1\"\n",
    "    row_cells[1].text = f\"행{i}, 열2\"\n",
    "    row_cells[2].text = f\"행{i}, 열3\"\n",
    "\n",
    "doc.save(\"example_table.docx\")\n",
    "\n"
   ]
  },
  {
   "cell_type": "code",
   "execution_count": 26,
   "metadata": {},
   "outputs": [],
   "source": [
    "# 목록 추가하기\n",
    "from docx import Document\n",
    "doc = Document()\n",
    "\n",
    "doc.add_paragraph(\"첫 번째 항목\", style=\"List Number\")\n",
    "doc.add_paragraph(\"두 번째 항목\", style=\"List Number\")\n",
    "\n",
    "doc.save(\"example_list.docx\")"
   ]
  },
  {
   "cell_type": "code",
   "execution_count": 31,
   "metadata": {},
   "outputs": [],
   "source": [
    "#이미지 추가하기\n",
    "\n",
    "from docx import Document\n",
    "from docx.shared import Inches\n",
    "\n",
    "doc = Document()\n",
    "#p = doc.add_paragraph(\"첫 번째 단락입니다.\")\n",
    "doc.add_picture(\"강아지.jpg\", width= Inches(2))\n",
    "\n",
    "doc.save(\"example_image.docx\")"
   ]
  },
  {
   "cell_type": "code",
   "execution_count": null,
   "metadata": {},
   "outputs": [],
   "source": []
  }
 ],
 "metadata": {
  "kernelspec": {
   "display_name": "Python 3",
   "language": "python",
   "name": "python3"
  },
  "language_info": {
   "codemirror_mode": {
    "name": "ipython",
    "version": 3
   },
   "file_extension": ".py",
   "mimetype": "text/x-python",
   "name": "python",
   "nbconvert_exporter": "python",
   "pygments_lexer": "ipython3",
   "version": "3.13.1"
  }
 },
 "nbformat": 4,
 "nbformat_minor": 2
}
