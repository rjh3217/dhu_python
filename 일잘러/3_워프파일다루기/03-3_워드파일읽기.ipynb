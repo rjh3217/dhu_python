{
 "cells": [
  {
   "cell_type": "code",
   "execution_count": 4,
   "metadata": {},
   "outputs": [
    {
     "name": "stdout",
     "output_type": "stream",
     "text": [
      "첫 번째 단락의 텍스트에 서식을 설정합니다.\n",
      "두 번째 단락입니다.\n",
      "두 번째 단락의 두 번째 줄입니다.\n"
     ]
    }
   ],
   "source": [
    "# 단락 읽어 출력하기\n",
    "\n",
    "from docx import Document\n",
    "doc = Document(\"read_doc.docx\")\n",
    "\n",
    "# len(doc.paragraphs)\n",
    "\n",
    "for para in doc.paragraphs:\n",
    "    print(para.text)"
   ]
  },
  {
   "cell_type": "code",
   "execution_count": 6,
   "metadata": {},
   "outputs": [
    {
     "name": "stdout",
     "output_type": "stream",
     "text": [
      "단락변호 0: \n",
      "정렬: None\n",
      "텍스트 내용: 첫 번째 단락의 텍스트에 서식을 설정합니다.\n",
      "굵게: True\n",
      "기울임: True\n",
      "밑줄: True\n",
      "글꼴: 맑은 고딕\n",
      "글자 크기: 152400\n",
      "글자색: 4224E9\n",
      "단락변호 1: \n",
      "정렬: CENTER (1)\n",
      "텍스트 내용: 두 번째 단락입니다.\n",
      "두 번째 단락의 두 번째 줄입니다.\n",
      "굵게: None\n",
      "기울임: None\n",
      "밑줄: None\n",
      "글꼴: None\n",
      "글자 크기: None\n",
      "글자색: None\n"
     ]
    }
   ],
   "source": [
    "# 단락과 텍스트의 서식 확인하기\n",
    "\n",
    "from docx import Document\n",
    "from docx.enum.text import WD_ALIGN_PARAGRAPH\n",
    "\n",
    "doc = Document(\"read_doc.docx\")\n",
    "\n",
    "for index, paragraph in enumerate(doc.paragraphs):\n",
    "    print(f\"단락변호 {index}: \" )\n",
    "    print(f\"정렬: {paragraph.alignment}\") \n",
    "\n",
    "    for run in paragraph.runs:\n",
    "        print(f\"텍스트 내용: {run.text}\")\n",
    "        print(f\"굵게: {run.bold}\")\n",
    "        print(f\"기울임: {run.italic}\")\n",
    "        print(f\"밑줄: {run.underline}\")\n",
    "        print(f\"글꼴: {run.font.name}\")\n",
    "        print(f\"글자 크기: {run.font.size}\")\n",
    "        print(f\"글자색: {run.font.color.rgb}\")"
   ]
  },
  {
   "cell_type": "code",
   "execution_count": 8,
   "metadata": {},
   "outputs": [
    {
     "name": "stdout",
     "output_type": "stream",
     "text": [
      "헤더 1\n",
      "헤더 2\n",
      "헤더 3\n",
      "행 1 & 열 1\n",
      "행 1 & 열 2\n",
      "행 1 & 열 3\n",
      "행 2 & 열 1\n",
      "행 2 & 열 2\n",
      "행 2 & 열 3\n"
     ]
    }
   ],
   "source": [
    "# 표 읽어 출력하기\n",
    "\n",
    "from docx import Document\n",
    "\n",
    "doc = Document(\"read_doc_table.docx\")\n",
    "\n",
    "table = doc.tables[0]\n",
    "\n",
    "for row in table.rows:\n",
    "    # print(len(row.cells))\n",
    "    for cell in row.cells:\n",
    "        print(cell.text)\n"
   ]
  },
  {
   "cell_type": "code",
   "execution_count": null,
   "metadata": {},
   "outputs": [],
   "source": []
  }
 ],
 "metadata": {
  "kernelspec": {
   "display_name": "Python 3",
   "language": "python",
   "name": "python3"
  },
  "language_info": {
   "codemirror_mode": {
    "name": "ipython",
    "version": 3
   },
   "file_extension": ".py",
   "mimetype": "text/x-python",
   "name": "python",
   "nbconvert_exporter": "python",
   "pygments_lexer": "ipython3",
   "version": "3.13.1"
  }
 },
 "nbformat": 4,
 "nbformat_minor": 2
}
