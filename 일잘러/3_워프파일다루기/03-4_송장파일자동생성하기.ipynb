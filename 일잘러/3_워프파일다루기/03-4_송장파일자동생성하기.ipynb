{
 "cells": [
  {
   "cell_type": "code",
   "execution_count": 7,
   "metadata": {},
   "outputs": [
    {
     "name": "stdout",
     "output_type": "stream",
     "text": [
      "표 0:\n",
      "행 0:\n",
      "셀 0: 제품\n",
      "셀 1: 수량\n",
      "셀 2: 단가\n",
      "셀 3: 합계\n",
      "행 1:\n",
      "셀 0: \n",
      "셀 1: \n",
      "셀 2: \n",
      "셀 3: \n",
      "행 2:\n",
      "셀 0: \n",
      "셀 1: \n",
      "셀 2: \n",
      "셀 3: \n",
      "행 3:\n",
      "셀 0: \n",
      "셀 1: \n",
      "셀 2: \n",
      "셀 3: \n",
      "행 4:\n",
      "셀 0: \n",
      "셀 1: \n",
      "셀 2: \n",
      "셀 3: \n",
      "행 5:\n",
      "셀 0: 총 합계\n",
      "셀 1: 총 합계\n",
      "셀 2: 총 합계\n",
      "셀 3: \n",
      "____________________\n"
     ]
    }
   ],
   "source": [
    "from docx import Document\n",
    "\n",
    "doc = Document(\"송장.docx\")\n",
    "\n",
    "#for index, paragraph in enumerate(doc.paragraphs):\n",
    "#    print(f\"단락 번호: {index}:\")\n",
    "#\n",
    "#    for idx, run in enumerate(paragraph.runs):\n",
    "#        print(f\"텍스트 번호: {idx}\")\n",
    "#        print(f\"텍스트 내용: {run.text}\")\n",
    "        \n",
    "        \n",
    "for table_index, table in enumerate(doc.tables):\n",
    "    print(f\"표 {table_index}:\")\n",
    "\n",
    "    for row_index, row in enumerate(table.rows):\n",
    "        print(f\"행 {row_index}:\")\n",
    "        for cell_index, cell in enumerate(row.cells):\n",
    "            print(f\"셀 {cell_index}: {cell.text}\")\n",
    "\n",
    "print(\"_\" * 20)\n"
   ]
  },
  {
   "cell_type": "code",
   "execution_count": 18,
   "metadata": {},
   "outputs": [
    {
     "name": "stdout",
     "output_type": "stream",
     "text": [
      "받는 사람\n",
      "고객명: \n",
      "고객 주소: \n",
      "고객 연락처: \n",
      "\n"
     ]
    }
   ],
   "source": [
    "from docx import Document\n",
    "import os\n",
    "\n",
    "doc = Document(\"송장.docx\")\n",
    "target_paragraph = doc.paragraphs[2]\n",
    "\n",
    "print(target_paragraph.text)\n",
    "\n",
    "target_paragraph.runs[2].add_text(\"김쁠뿡\")\n",
    "target_paragraph.runs[5].add_text(\"루미아시 루미동 연구소 102동 xxx호\")\n",
    "target_paragraph.runs[8].add_text(\"010-0000-0000\")\n",
    "\n",
    "table = doc.tables[0]\n",
    "\n",
    "data = [\n",
    "    [\"제품1\", \"2\", \"12,000\", \"24,000\"]\n",
    "]\n",
    "\n",
    "for i, row_data in enumerate(data):\n",
    "    for j, cell_data in enumerate(row_data):\n",
    "        table.cell(i+1, j).text = cell_data\n",
    "\n",
    "doc.save(\"김쁠뿡_송장.docx\")"
   ]
  },
  {
   "cell_type": "code",
   "execution_count": 19,
   "metadata": {},
   "outputs": [
    {
     "name": "stdout",
     "output_type": "stream",
     "text": [
      "김블뿡 내가 캐리해쭈께 혈팩냬놔!\n"
     ]
    }
   ],
   "source": []
  },
  {
   "cell_type": "code",
   "execution_count": null,
   "metadata": {},
   "outputs": [],
   "source": []
  }
 ],
 "metadata": {
  "kernelspec": {
   "display_name": "Python 3",
   "language": "python",
   "name": "python3"
  },
  "language_info": {
   "codemirror_mode": {
    "name": "ipython",
    "version": 3
   },
   "file_extension": ".py",
   "mimetype": "text/x-python",
   "name": "python",
   "nbconvert_exporter": "python",
   "pygments_lexer": "ipython3",
   "version": "3.13.1"
  }
 },
 "nbformat": 4,
 "nbformat_minor": 2
}
