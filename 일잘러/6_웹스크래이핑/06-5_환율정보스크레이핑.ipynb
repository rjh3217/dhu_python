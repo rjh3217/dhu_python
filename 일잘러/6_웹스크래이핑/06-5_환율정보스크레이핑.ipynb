{
 "cells": [
  {
   "cell_type": "code",
   "execution_count": null,
   "metadata": {},
   "outputs": [],
   "source": []
  },
  {
   "cell_type": "code",
   "execution_count": 1,
   "metadata": {},
   "outputs": [
    {
     "name": "stdout",
     "output_type": "stream",
     "text": [
      "[            구분    금리   등락율\n",
      "0    CD금리(91일)  3.02  0.01\n",
      "1         콜 금리  2.98  0.09\n",
      "2     국고채 (3년)  2.57  0.00\n",
      "3     회사채 (3년)  3.19  0.01\n",
      "4     COFIX 잔액  3.47  0.06\n",
      "5  COFIX 신규취급액  3.22  0.13,        구분      금리   등락율\n",
      "0  달러 인덱스  108.87  0.66, Empty DataFrame\n",
      "Columns: [업체명, 거래량, 전일비]\n",
      "Index: []]\n"
     ]
    },
    {
     "name": "stderr",
     "output_type": "stream",
     "text": [
      "c:\\Users\\user\\AppData\\Local\\Programs\\Python\\Python313\\Lib\\site-packages\\bs4\\__init__.py:339: UserWarning: You provided Unicode markup but also provided a value for from_encoding. Your from_encoding will be ignored.\n",
      "  warnings.warn(\n"
     ]
    }
   ],
   "source": [
    "import pandas as pd\n",
    "\n",
    "url = \"https://finance.naver.com/marketindex\"\n",
    "\n",
    "exchange_lists = pd.read_html(url, encoding=\"cp949\", flavor=\"html5lib\")\n",
    "print(exchange_lists)"
   ]
  },
  {
   "cell_type": "code",
   "execution_count": 2,
   "metadata": {},
   "outputs": [
    {
     "name": "stdout",
     "output_type": "stream",
     "text": [
      "[              통화명    매매기준율       현찰                송금           미화환산율\n",
      "              통화명    매매기준율     사실 때     파실 때    보내실 때    받으실 때  미화환산율\n",
      "0          미국 USD  1462.90  1488.50  1437.30  1477.20  1448.60  1.000\n",
      "1        유럽연합 EUR  1505.69  1535.65  1475.73  1520.74  1490.64  1.029\n",
      "2   일본 JPY (100엔)   941.83   958.31   925.35   951.05   932.61  0.644\n",
      "3          중국 CNY   199.90   209.89   189.91   201.89   197.91  0.137\n",
      "4          홍콩 HKD   187.80   191.49   184.11   189.67   185.93  0.128\n",
      "5          대만 TWD    44.29    50.09    39.87      NaN      NaN  0.030\n",
      "6          영국 GBP  1813.05  1848.76  1777.34  1831.18  1794.92  1.239\n",
      "7          오만 OMR  3799.74  4065.72  3533.76      NaN      NaN  2.597\n",
      "8         캐나다 CAD  1010.05  1029.94   990.16  1020.15   999.95  0.690\n",
      "9         스위스 CHF  1602.74  1634.31  1571.17  1618.76  1586.72  1.096\n",
      "10        스웨덴 SEK   131.40   135.73   123.92   132.71   130.09  0.090\n",
      "11         호주 AUD   905.24   923.07   887.41   914.29   896.19  0.619\n",
      "12       뉴질랜드 NZD   817.98   834.09   801.87   826.15   809.81  0.559\n",
      "13         체코 CZK    59.72    64.79    54.35    60.37    59.07  0.041\n",
      "14         칠레 CLP     1.48     1.62     1.34      NaN      NaN  0.001\n",
      "15       튀르키예 TRY    40.60      NaN      NaN    41.04    40.16  0.028\n",
      "16         몽골 MNT     0.42      NaN      NaN      NaN      NaN  0.000\n",
      "17       이스라엘 ILS   408.12   448.93   375.48      NaN      NaN  0.279\n",
      "18        덴마크 DKK   201.81   208.46   190.31   203.82   199.80  0.138\n",
      "19       노르웨이 NOK   128.15   132.37   120.85   129.43   126.87  0.088\n",
      "20    사우디아라비아 SAR   390.02   414.59   363.11   393.92   386.12  0.267\n",
      "21       쿠웨이트 KWD  4735.07  5042.84  4356.27  4782.42  4687.72  3.237\n",
      "22        바레인 BHD  3880.27  4128.60  3569.85  3919.07  3841.47  2.653\n",
      "23     아랍에미리트 AED   398.29   420.19   370.81   402.27   394.31  0.272\n",
      "24        요르단 JOD  2061.44  2244.90  1896.53      NaN      NaN  1.409\n",
      "25        이집트 EGP    29.05      NaN      NaN      NaN      NaN  0.020\n",
      "26         태국 THB    43.11    45.26    40.53    43.54    42.68  0.030\n",
      "27       싱가포르 SGD  1074.71  1096.09  1053.33  1085.45  1063.97  0.735\n",
      "28      말레이시아 MYR   328.00   352.27   303.73      NaN   324.72  0.224\n",
      "29  인도네시아 IDR 100     8.95     9.84     8.06     9.03     8.87  0.006\n",
      "30        카타르 QAR   401.26      NaN      NaN      NaN      NaN  0.274\n",
      "31      카자흐스탄 KZT     2.81      NaN      NaN      NaN      NaN  0.002\n",
      "32       브루나이 BND  1074.71  1117.69  1010.23      NaN      NaN  0.735\n",
      "33         인도 INR    16.79      NaN      NaN    16.98    16.60  0.012\n",
      "34       파키스탄 PKR     5.25      NaN      NaN      NaN      NaN  0.004\n",
      "35      방글라데시 BDT    12.00      NaN      NaN      NaN      NaN  0.008\n",
      "36        필리핀 PHP    25.08    27.58    23.03    25.33    24.83  0.017\n",
      "37        멕시코 MXN    71.61    79.12    64.10    72.32    70.90  0.049\n",
      "38        브라질 BRL   251.92   277.61   226.73      NaN   248.90  0.172\n",
      "39    베트남 VND 100     5.80     6.48     5.12     5.85     5.75  0.004\n",
      "40  남아프리카 공화국 ZAR    77.80    84.02    71.58    78.73    76.87  0.053\n",
      "41        러시아 RUB    14.48    15.85    11.95    14.98    13.98  0.010\n",
      "42        헝가리 HUF     3.69     4.03     3.40     3.73     3.65  0.003\n",
      "43        폴란드 PLN   355.50   383.94   327.06   359.41   351.59  0.243\n",
      "44       스리랑카 LKR     4.88      NaN      NaN      NaN      NaN  0.003\n",
      "45        알제리 DZD    10.77      NaN      NaN      NaN      NaN  0.007\n",
      "46         케냐 KES    11.34      NaN      NaN      NaN      NaN  0.008\n",
      "47       콜롬비아 COP     0.35      NaN      NaN      NaN      NaN  0.000\n",
      "48       탄자니아 TZS     0.57      NaN      NaN      NaN      NaN  0.000\n",
      "49         네팔 NPR    10.50      NaN      NaN      NaN      NaN  0.007\n",
      "50       루마니아 RON   302.54      NaN      NaN   305.86   299.22  0.207\n",
      "51        리비아 LYD   296.11      NaN      NaN   299.07   293.15  0.202\n",
      "52        마카오 MOP   182.25      NaN      NaN      NaN      NaN  0.125\n",
      "53        미얀마 MMK     0.70      NaN      NaN      NaN      NaN  0.001\n",
      "54      에티오피아 ETB    11.43      NaN      NaN      NaN      NaN  0.008\n",
      "55     우즈베키스탄 UZS     0.11      NaN      NaN      NaN      NaN  0.000\n",
      "56       캄보디아 KHR     0.36      NaN      NaN      NaN      NaN  0.000\n",
      "57         피지 FJD   627.88      NaN      NaN      NaN      NaN  0.429]\n"
     ]
    },
    {
     "name": "stderr",
     "output_type": "stream",
     "text": [
      "c:\\Users\\user\\AppData\\Local\\Programs\\Python\\Python313\\Lib\\site-packages\\bs4\\__init__.py:339: UserWarning: You provided Unicode markup but also provided a value for from_encoding. Your from_encoding will be ignored.\n",
      "  warnings.warn(\n"
     ]
    }
   ],
   "source": [
    "url = \"https://finance.naver.com/marketindex/exchangeList.naver\"\n",
    "\n",
    "exchange_lists = pd.read_html(url, encoding=\"cp949\", flavor=\"html5lib\")\n",
    "print(exchange_lists)"
   ]
  },
  {
   "cell_type": "code",
   "execution_count": 3,
   "metadata": {},
   "outputs": [
    {
     "data": {
      "text/plain": [
       "'https://finance.naver.com/marketindex/exchangeDetail.naver?marketindexCd=FX_USDkrw'"
      ]
     },
     "execution_count": 3,
     "metadata": {},
     "output_type": "execute_result"
    }
   ],
   "source": [
    "# 통화별 환율 가져오기\n",
    "\n",
    "currency_code = \"USD\"\n",
    "\n",
    "url = \"https://finance.naver.com/marketindex/exchangeDetail.naver?marketindexCd=FX_\" + currency_code + \"krw\"\n",
    "\n",
    "url"
   ]
  },
  {
   "cell_type": "code",
   "execution_count": 5,
   "metadata": {},
   "outputs": [
    {
     "data": {
      "text/plain": [
       "'1,461.70원'"
      ]
     },
     "execution_count": 5,
     "metadata": {},
     "output_type": "execute_result"
    }
   ],
   "source": [
    "import requests\n",
    "from bs4 import BeautifulSoup\n",
    "\n",
    "currency_code = \"USD\"\n",
    "\n",
    "url = \"https://finance.naver.com/marketindex/exchangeDetail.naver?marketindexCd=FX_\" + currency_code + \"krw\"\n",
    "\n",
    "response = requests.get(url)\n",
    "html_content = response.text\n",
    "soup = BeautifulSoup(html_content, \"html.parser\")\n",
    "\n",
    "rate_info = soup.find(\"p\", class_=\"no_today\").get_text(strip=True)\n",
    "rate_info"
   ]
  },
  {
   "cell_type": "code",
   "execution_count": 10,
   "metadata": {},
   "outputs": [
    {
     "data": {
      "text/plain": [
       "'전일대비3.70(+0.25%)'"
      ]
     },
     "execution_count": 10,
     "metadata": {},
     "output_type": "execute_result"
    }
   ],
   "source": [
    "exday_info = soup.find(\"p\", class_=\"no_exday\").get_text(strip=True)\n",
    "exday_info"
   ]
  },
  {
   "cell_type": "code",
   "execution_count": 19,
   "metadata": {},
   "outputs": [
    {
     "name": "stdout",
     "output_type": "stream",
     "text": [
      "미국 USD 실시간환율: 1,461.60원 전일대비 전일대비3.60(+0.25%)\n",
      "홍콩 HKD 실시간환율: 187.65원 전일대비 전일대비0.56(+0.30%)\n",
      "태국 THB 실시간환율: 43.05원 전일대비 전일대비0.01(-0.02%)\n",
      "중국 CNY 실시간환율: 199.72원 전일대비 전일대비0.11(+0.06%)\n",
      "일본 JPY 실시간환율: 941.30원 전일대비 전일대비0.23(-0.02%)\n"
     ]
    }
   ],
   "source": [
    "# 통화 코드 입력하여 환율 정보 가져오기\n",
    "\n",
    "import requests\n",
    "from bs4 import BeautifulSoup\n",
    "\n",
    "def get_exchange_rate(currency_code):\n",
    "\n",
    "    url = \"https://finance.naver.com/marketindex/exchangeDetail.naver?marketindexCd=FX_\" + currency_code + \"krw\"\n",
    "\n",
    "    response = requests.get(url)\n",
    "    html_content = response.text\n",
    "    soup =  BeautifulSoup(html_content, \"html.parser\")\n",
    "\n",
    "    country = soup.find(\"h2\").get_text(strip=True)\n",
    "\n",
    "    rate_info = soup.find(\"p\", class_ =\"no_today\").get_text(strip=True)\n",
    "    exday_info = soup.find(\"p\", class_ =\"no_exday\").get_text(strip=True)\n",
    "\n",
    "    print(country, currency_code, \"실시간환율:\", rate_info, \"전일대비\", exday_info)\n",
    "\n",
    "get_exchange_rate(\"USD\")\n",
    "get_exchange_rate(\"HKD\")\n",
    "get_exchange_rate(\"THB\")\n",
    "get_exchange_rate(\"CNY\")\n",
    "get_exchange_rate(\"JPY\")\n",
    "\n",
    "\n"
   ]
  },
  {
   "cell_type": "code",
   "execution_count": 23,
   "metadata": {},
   "outputs": [
    {
     "name": "stdout",
     "output_type": "stream",
     "text": [
      "작업중\n",
      "작업중\n",
      "작업중\n",
      "작업중\n",
      "작업중\n",
      "작업중\n",
      "작업중\n",
      "작업중\n",
      "작업중\n",
      "작업중\n",
      "작업중\n",
      "작업중\n",
      "작업중\n",
      "작업중\n",
      "작업중\n",
      "작업중\n",
      "작업중\n",
      "작업중\n"
     ]
    },
    {
     "ename": "KeyboardInterrupt",
     "evalue": "",
     "output_type": "error",
     "traceback": [
      "\u001b[1;31m---------------------------------------------------------------------------\u001b[0m",
      "\u001b[1;31mKeyboardInterrupt\u001b[0m                         Traceback (most recent call last)",
      "Cell \u001b[1;32mIn[23], line 16\u001b[0m\n\u001b[0;32m     14\u001b[0m \u001b[38;5;28;01mwhile\u001b[39;00m \u001b[38;5;28;01mTrue\u001b[39;00m:\n\u001b[0;32m     15\u001b[0m     schedule\u001b[38;5;241m.\u001b[39mrun_pending()\n\u001b[1;32m---> 16\u001b[0m     \u001b[43mtime\u001b[49m\u001b[38;5;241;43m.\u001b[39;49m\u001b[43msleep\u001b[49m\u001b[43m(\u001b[49m\u001b[38;5;241;43m1\u001b[39;49m\u001b[43m)\u001b[49m\n",
      "\u001b[1;31mKeyboardInterrupt\u001b[0m: "
     ]
    }
   ],
   "source": [
    "# 주기적인 실행을 위한 스케줄 라이브러리 알아보기\n",
    "\n",
    "import schedule\n",
    "import time\n",
    "def job():\n",
    "    print(\"작업중\")\n",
    "\n",
    "schedule.every().day.at(\"10:30\").do(job)\n",
    "\n",
    "schedule.every().wednesday.at(\"13:15\").do(job)\n",
    "\n",
    "schedule.every(5).seconds.do(job)\n",
    "\n",
    "while True:\n",
    "    schedule.run_pending()\n",
    "    time.sleep(1)\n",
    "\n"
   ]
  },
  {
   "cell_type": "code",
   "execution_count": null,
   "metadata": {},
   "outputs": [],
   "source": []
  }
 ],
 "metadata": {
  "kernelspec": {
   "display_name": "Python 3",
   "language": "python",
   "name": "python3"
  },
  "language_info": {
   "codemirror_mode": {
    "name": "ipython",
    "version": 3
   },
   "file_extension": ".py",
   "mimetype": "text/x-python",
   "name": "python",
   "nbconvert_exporter": "python",
   "pygments_lexer": "ipython3",
   "version": "3.13.1"
  }
 },
 "nbformat": 4,
 "nbformat_minor": 2
}
